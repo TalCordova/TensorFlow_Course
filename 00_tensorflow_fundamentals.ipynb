{
  "nbformat": 4,
  "nbformat_minor": 0,
  "metadata": {
    "colab": {
      "provenance": [],
      "collapsed_sections": [],
      "authorship_tag": "ABX9TyPAEDr05npOZiCWrpRCat1+",
      "include_colab_link": true
    },
    "kernelspec": {
      "name": "python3",
      "display_name": "Python 3"
    },
    "language_info": {
      "name": "python"
    },
    "accelerator": "GPU",
    "gpuClass": "standard"
  },
  "cells": [
    {
      "cell_type": "markdown",
      "metadata": {
        "id": "view-in-github",
        "colab_type": "text"
      },
      "source": [
        "<a href=\"https://colab.research.google.com/github/TalCordova/TensorFlow_Course/blob/main/00_tensorflow_fundamentals.ipynb\" target=\"_parent\"><img src=\"https://colab.research.google.com/assets/colab-badge.svg\" alt=\"Open In Colab\"/></a>"
      ]
    },
    {
      "cell_type": "markdown",
      "source": [
        "# In this notebook we are going to cover some of the most fundumentals of tensors using TensorFlow\n",
        "\n",
        "More specifically, we are going to cover\n",
        "* Intro to tensors\n",
        "* Geting information from tensors\n",
        "* Manipulating tensors\n",
        "* Tensors & NumPy\n",
        "* Using @tf.function (a way to speed up your regular python functions)\n",
        "* Using GPUs with TensorFlow\n",
        "* Exercises for myself."
      ],
      "metadata": {
        "id": "NWaR26FHf6ve"
      }
    },
    {
      "cell_type": "markdown",
      "source": [
        "## Introduction to tensors"
      ],
      "metadata": {
        "id": "fejloArngW-k"
      }
    },
    {
      "cell_type": "code",
      "source": [
        "# Imort TensorFlow\n",
        "import tensorflow as tf\n",
        "print(tf.__version__)"
      ],
      "metadata": {
        "colab": {
          "base_uri": "https://localhost:8080/"
        },
        "id": "fDQgss8ohrRF",
        "outputId": "71191c0e-52b6-45f0-8691-7210cf10ec40"
      },
      "execution_count": null,
      "outputs": [
        {
          "output_type": "stream",
          "name": "stdout",
          "text": [
            "2.9.2\n"
          ]
        }
      ]
    },
    {
      "cell_type": "code",
      "source": [
        "# Create tensors with tf.constant()\n",
        "scalar = tf.constant(7)\n",
        "scalar"
      ],
      "metadata": {
        "colab": {
          "base_uri": "https://localhost:8080/"
        },
        "id": "Y3xmJn3hiJd8",
        "outputId": "59a542b4-5e77-4a85-de76-b9ed0a4725be"
      },
      "execution_count": null,
      "outputs": [
        {
          "output_type": "execute_result",
          "data": {
            "text/plain": [
              "<tf.Tensor: shape=(), dtype=int32, numpy=7>"
            ]
          },
          "metadata": {},
          "execution_count": 3
        }
      ]
    },
    {
      "cell_type": "code",
      "source": [
        "# Check the number of dimensions of a tensor (ndim  stands for number of dimensions)\n",
        "scalar.ndim"
      ],
      "metadata": {
        "colab": {
          "base_uri": "https://localhost:8080/"
        },
        "id": "V_yICsgfibCz",
        "outputId": "10418c56-97c8-4771-c8cc-488fff8680a3"
      },
      "execution_count": null,
      "outputs": [
        {
          "output_type": "execute_result",
          "data": {
            "text/plain": [
              "0"
            ]
          },
          "metadata": {},
          "execution_count": 4
        }
      ]
    },
    {
      "cell_type": "code",
      "source": [
        "# Create a vector\n",
        "vector = tf.constant([10, 10])\n",
        "vector "
      ],
      "metadata": {
        "id": "LwOYOhKpi0vT",
        "colab": {
          "base_uri": "https://localhost:8080/"
        },
        "outputId": "a8e36810-7798-4d80-fd07-c8d3f9faddf1"
      },
      "execution_count": null,
      "outputs": [
        {
          "output_type": "execute_result",
          "data": {
            "text/plain": [
              "<tf.Tensor: shape=(2,), dtype=int32, numpy=array([10, 10], dtype=int32)>"
            ]
          },
          "metadata": {},
          "execution_count": 5
        }
      ]
    },
    {
      "cell_type": "code",
      "source": [
        "#Check the dimensions of our vector\n",
        "vector = vector.ndim"
      ],
      "metadata": {
        "id": "q3ci2FbdjL4a"
      },
      "execution_count": null,
      "outputs": []
    },
    {
      "cell_type": "code",
      "source": [
        "matrix = tf.constant([[10, 7], \n",
        "                      [7, 10]])\n",
        "matrix"
      ],
      "metadata": {
        "colab": {
          "base_uri": "https://localhost:8080/"
        },
        "id": "w2y65sDQjWc6",
        "outputId": "ebc30c5b-4143-41ee-e319-c93e1cd5ce15"
      },
      "execution_count": null,
      "outputs": [
        {
          "output_type": "execute_result",
          "data": {
            "text/plain": [
              "<tf.Tensor: shape=(2, 2), dtype=int32, numpy=\n",
              "array([[10,  7],\n",
              "       [ 7, 10]], dtype=int32)>"
            ]
          },
          "metadata": {},
          "execution_count": 7
        }
      ]
    },
    {
      "cell_type": "code",
      "source": [
        "matrix.ndim"
      ],
      "metadata": {
        "id": "N1VDgeOijghi",
        "colab": {
          "base_uri": "https://localhost:8080/"
        },
        "outputId": "454fbeac-9c2d-4885-ca08-1a9eac4e78ee"
      },
      "execution_count": null,
      "outputs": [
        {
          "output_type": "execute_result",
          "data": {
            "text/plain": [
              "2"
            ]
          },
          "metadata": {},
          "execution_count": 8
        }
      ]
    },
    {
      "cell_type": "code",
      "source": [
        "# Create another matrix\n",
        "another_matrix = tf.constant([[10.,7.],\n",
        "                              [3., 2.],\n",
        "                              [8., 9.]], dtype = tf.float16) # specify data type with dtype parameter\n",
        "another_matrix                      "
      ],
      "metadata": {
        "colab": {
          "base_uri": "https://localhost:8080/"
        },
        "id": "aCrNmArmOn5B",
        "outputId": "f903acf9-3417-427e-e654-ef294529e559"
      },
      "execution_count": null,
      "outputs": [
        {
          "output_type": "execute_result",
          "data": {
            "text/plain": [
              "<tf.Tensor: shape=(3, 2), dtype=float16, numpy=\n",
              "array([[10.,  7.],\n",
              "       [ 3.,  2.],\n",
              "       [ 8.,  9.]], dtype=float16)>"
            ]
          },
          "metadata": {},
          "execution_count": 9
        }
      ]
    },
    {
      "cell_type": "code",
      "source": [
        "# What's the number of dimension of another matrix?\n",
        "another_matrix.ndim"
      ],
      "metadata": {
        "colab": {
          "base_uri": "https://localhost:8080/"
        },
        "id": "A6f4MI9UP2s3",
        "outputId": "4fcc0da0-d530-49f9-f650-d64a4c825933"
      },
      "execution_count": null,
      "outputs": [
        {
          "output_type": "execute_result",
          "data": {
            "text/plain": [
              "2"
            ]
          },
          "metadata": {},
          "execution_count": 10
        }
      ]
    },
    {
      "cell_type": "code",
      "source": [
        "# Let's create a tesnsor\n",
        "tensor = tf.constant([[[1, 2, 3],\n",
        "                      [4,5,6]],\n",
        "                     [[7,8,9],\n",
        "                      [10, 11, 12]],\n",
        "                     [[13, 14, 15],\n",
        "                      [16, 17, 18]]])\n",
        "tensor"
      ],
      "metadata": {
        "colab": {
          "base_uri": "https://localhost:8080/"
        },
        "id": "n8UuV8L0QC22",
        "outputId": "5f91c63d-841b-4518-8ac0-23f2e9b91d44"
      },
      "execution_count": null,
      "outputs": [
        {
          "output_type": "execute_result",
          "data": {
            "text/plain": [
              "<tf.Tensor: shape=(3, 2, 3), dtype=int32, numpy=\n",
              "array([[[ 1,  2,  3],\n",
              "        [ 4,  5,  6]],\n",
              "\n",
              "       [[ 7,  8,  9],\n",
              "        [10, 11, 12]],\n",
              "\n",
              "       [[13, 14, 15],\n",
              "        [16, 17, 18]]], dtype=int32)>"
            ]
          },
          "metadata": {},
          "execution_count": 11
        }
      ]
    },
    {
      "cell_type": "code",
      "source": [
        "tensor.ndim"
      ],
      "metadata": {
        "colab": {
          "base_uri": "https://localhost:8080/"
        },
        "id": "yWax7bVUQ7_e",
        "outputId": "e1a4f9c5-e89c-450d-de85-3cc0910b258d"
      },
      "execution_count": null,
      "outputs": [
        {
          "output_type": "execute_result",
          "data": {
            "text/plain": [
              "3"
            ]
          },
          "metadata": {},
          "execution_count": 12
        }
      ]
    },
    {
      "cell_type": "markdown",
      "source": [
        "from tensorflow.python.ops.math_ops import numbers\n",
        "What we have craeted so far:\n",
        "* Scalar: a single number* \n",
        "* Vector: a number with direction (e.g. wind speed and direction)\n",
        "* Matrix: a s-d arrat of numbers\n",
        "* Tensor: an n-dimensional array of numbers (where n can be any number, a 0-dim tensor is a scalar, a 1-dim tensor is a vector)"
      ],
      "metadata": {
        "id": "t5LCWdWoRDdP"
      }
    },
    {
      "cell_type": "markdown",
      "source": [
        "### Creating tensors with tf.variable"
      ],
      "metadata": {
        "id": "Nxeeyiq_R-c0"
      }
    },
    {
      "cell_type": "code",
      "source": [
        "# Create the same tensot with tf.Variable() as above\n",
        "changeable_tensor = tf.Variable([10, 7])\n",
        "unchangeable_tensor = tf.constant([10, 7])\n",
        "changeable_tensor, unchangeable_tensor"
      ],
      "metadata": {
        "colab": {
          "base_uri": "https://localhost:8080/"
        },
        "id": "i6XsztKmSFfX",
        "outputId": "43514485-7439-4d17-d285-25f0ee441ef1"
      },
      "execution_count": null,
      "outputs": [
        {
          "output_type": "execute_result",
          "data": {
            "text/plain": [
              "(<tf.Variable 'Variable:0' shape=(2,) dtype=int32, numpy=array([10,  7], dtype=int32)>,\n",
              " <tf.Tensor: shape=(2,), dtype=int32, numpy=array([10,  7], dtype=int32)>)"
            ]
          },
          "metadata": {},
          "execution_count": 13
        }
      ]
    },
    {
      "cell_type": "code",
      "source": [
        "# Let's try change one of the elements in the changeable tensor\n",
        "changeable_tensor[0] = 7\n",
        "changeable_tensor"
      ],
      "metadata": {
        "colab": {
          "base_uri": "https://localhost:8080/",
          "height": 200
        },
        "id": "-4iY1sbzSs9-",
        "outputId": "6885e841-f0e7-405a-bd6a-e41e5303a0cb"
      },
      "execution_count": null,
      "outputs": [
        {
          "output_type": "error",
          "ename": "TypeError",
          "evalue": "ignored",
          "traceback": [
            "\u001b[0;31m---------------------------------------------------------------------------\u001b[0m",
            "\u001b[0;31mTypeError\u001b[0m                                 Traceback (most recent call last)",
            "\u001b[0;32m<ipython-input-14-f59c251da03a>\u001b[0m in \u001b[0;36m<module>\u001b[0;34m\u001b[0m\n\u001b[1;32m      1\u001b[0m \u001b[0;31m# Let's try change one of the elements in the changeable tensor\u001b[0m\u001b[0;34m\u001b[0m\u001b[0;34m\u001b[0m\u001b[0;34m\u001b[0m\u001b[0m\n\u001b[0;32m----> 2\u001b[0;31m \u001b[0mchangeable_tensor\u001b[0m\u001b[0;34m[\u001b[0m\u001b[0;36m0\u001b[0m\u001b[0;34m]\u001b[0m \u001b[0;34m=\u001b[0m \u001b[0;36m7\u001b[0m\u001b[0;34m\u001b[0m\u001b[0;34m\u001b[0m\u001b[0m\n\u001b[0m\u001b[1;32m      3\u001b[0m \u001b[0mchangeable_tensor\u001b[0m\u001b[0;34m\u001b[0m\u001b[0;34m\u001b[0m\u001b[0m\n",
            "\u001b[0;31mTypeError\u001b[0m: 'ResourceVariable' object does not support item assignment"
          ]
        }
      ]
    },
    {
      "cell_type": "code",
      "source": [
        "# Let's try .assign()\n",
        "changeable_tensor[0].assign(7)\n",
        "changeable_tensor"
      ],
      "metadata": {
        "colab": {
          "base_uri": "https://localhost:8080/"
        },
        "id": "Zuq5kVEzTLFG",
        "outputId": "c50c9ba0-40df-49d9-d8f1-9c400d14db0b"
      },
      "execution_count": null,
      "outputs": [
        {
          "output_type": "execute_result",
          "data": {
            "text/plain": [
              "<tf.Variable 'Variable:0' shape=(2,) dtype=int32, numpy=array([7, 7], dtype=int32)>"
            ]
          },
          "metadata": {},
          "execution_count": 15
        }
      ]
    },
    {
      "cell_type": "code",
      "source": [
        "# Let's try to change the unchangeable tensor\n",
        "unchangeable_tensor[0].assign(7)\n",
        "unchangeable_tensor"
      ],
      "metadata": {
        "colab": {
          "base_uri": "https://localhost:8080/",
          "height": 321
        },
        "id": "0eD6DIduTUAn",
        "outputId": "10c85c16-a037-48b5-ac01-5e79e5d72ac4"
      },
      "execution_count": null,
      "outputs": [
        {
          "output_type": "error",
          "ename": "AttributeError",
          "evalue": "ignored",
          "traceback": [
            "\u001b[0;31m---------------------------------------------------------------------------\u001b[0m",
            "\u001b[0;31mAttributeError\u001b[0m                            Traceback (most recent call last)",
            "\u001b[0;32m<ipython-input-16-59ca799cccd3>\u001b[0m in \u001b[0;36m<module>\u001b[0;34m\u001b[0m\n\u001b[1;32m      1\u001b[0m \u001b[0;31m# Let's try to change the unchangeable tensor\u001b[0m\u001b[0;34m\u001b[0m\u001b[0;34m\u001b[0m\u001b[0;34m\u001b[0m\u001b[0m\n\u001b[0;32m----> 2\u001b[0;31m \u001b[0munchangeable_tensor\u001b[0m\u001b[0;34m[\u001b[0m\u001b[0;36m0\u001b[0m\u001b[0;34m]\u001b[0m\u001b[0;34m.\u001b[0m\u001b[0massign\u001b[0m\u001b[0;34m(\u001b[0m\u001b[0;36m7\u001b[0m\u001b[0;34m)\u001b[0m\u001b[0;34m\u001b[0m\u001b[0;34m\u001b[0m\u001b[0m\n\u001b[0m\u001b[1;32m      3\u001b[0m \u001b[0munchangeable_tensor\u001b[0m\u001b[0;34m\u001b[0m\u001b[0;34m\u001b[0m\u001b[0m\n",
            "\u001b[0;32m/usr/local/lib/python3.7/dist-packages/tensorflow/python/framework/ops.py\u001b[0m in \u001b[0;36m__getattr__\u001b[0;34m(self, name)\u001b[0m\n\u001b[1;32m    444\u001b[0m         \u001b[0mnp_config\u001b[0m\u001b[0;34m.\u001b[0m\u001b[0menable_numpy_behavior\u001b[0m\u001b[0;34m(\u001b[0m\u001b[0;34m)\u001b[0m\u001b[0;34m\u001b[0m\u001b[0;34m\u001b[0m\u001b[0m\n\u001b[1;32m    445\u001b[0m       \"\"\")\n\u001b[0;32m--> 446\u001b[0;31m     \u001b[0mself\u001b[0m\u001b[0;34m.\u001b[0m\u001b[0m__getattribute__\u001b[0m\u001b[0;34m(\u001b[0m\u001b[0mname\u001b[0m\u001b[0;34m)\u001b[0m\u001b[0;34m\u001b[0m\u001b[0;34m\u001b[0m\u001b[0m\n\u001b[0m\u001b[1;32m    447\u001b[0m \u001b[0;34m\u001b[0m\u001b[0m\n\u001b[1;32m    448\u001b[0m   \u001b[0;34m@\u001b[0m\u001b[0mstaticmethod\u001b[0m\u001b[0;34m\u001b[0m\u001b[0;34m\u001b[0m\u001b[0m\n",
            "\u001b[0;31mAttributeError\u001b[0m: 'tensorflow.python.framework.ops.EagerTensor' object has no attribute 'assign'"
          ]
        }
      ]
    },
    {
      "cell_type": "markdown",
      "source": [
        "### Creating random tensors\n",
        "\n",
        "Random tensors are tensors of arbitrary size with random numbers"
      ],
      "metadata": {
        "id": "BdQt15fgTfD_"
      }
    },
    {
      "cell_type": "code",
      "source": [
        "# Create two random (but the same) tensors\n",
        "random_1 = tf.random.Generator.from_seed(7) # set seed for reproduceability\n",
        "random_1 = random_1.normal(shape=(3,2))\n",
        "random_2 = tf.random.Generator.from_seed(7)\n",
        "random_2 = random_2.normal(shape=(3,2))\n",
        "\n",
        "# Are they equal?\n",
        "random_1, random_2, random_1 == random_2"
      ],
      "metadata": {
        "id": "7yR_13EKUBqX"
      },
      "execution_count": null,
      "outputs": []
    },
    {
      "cell_type": "markdown",
      "source": [
        "### Shuffle the order of elements in a tensor"
      ],
      "metadata": {
        "id": "eHg-IO_sVbd-"
      }
    },
    {
      "cell_type": "code",
      "source": [
        "# Shuffle a tensor (valuable for when you want to shuffle your data, so inherent order doen's affect learning)\n",
        "not_shuffled = tf.constant([[10, 7],\n",
        "                            [3, 4],\n",
        "                            [2, 5]])\n",
        "not_shuffled\n",
        "## shulle our not shuffled\n",
        "tf.random.shuffle(not_shuffled)"
      ],
      "metadata": {
        "id": "jOfsSPd7Wmtw"
      },
      "execution_count": null,
      "outputs": []
    },
    {
      "cell_type": "code",
      "source": [
        "tf.random.set_seed(42) # global level random seed\n",
        "tf.random.shuffle(not_shuffled) # operation level random seed"
      ],
      "metadata": {
        "id": "k4vShpSGXP4t"
      },
      "execution_count": null,
      "outputs": []
    },
    {
      "cell_type": "markdown",
      "source": [
        "### Other ways to make tensros"
      ],
      "metadata": {
        "id": "CLxajRZUZnSQ"
      }
    },
    {
      "cell_type": "code",
      "source": [
        "# Create a tensor of all ones\n",
        "tf.ones([10,7])"
      ],
      "metadata": {
        "id": "9ygEUHm2aOqm"
      },
      "execution_count": null,
      "outputs": []
    },
    {
      "cell_type": "code",
      "source": [
        "# Create a tensor of all zeros\n",
        "tf.zeros(shape = (3,4))"
      ],
      "metadata": {
        "id": "VGt81ELUaUcu"
      },
      "execution_count": null,
      "outputs": []
    },
    {
      "cell_type": "markdown",
      "source": [
        "### Turn NumPy arrays into tensors\n",
        "The main difference between NumPy arrays and TensorFlow tensors in that tensors can be run on a GPU (much faster for numerical computers)."
      ],
      "metadata": {
        "id": "X6FbIbxpaqN1"
      }
    },
    {
      "cell_type": "code",
      "source": [
        "from tensorflow.python.training.tracking.base import no_automatic_dependency_tracking\n",
        "# You can also turn NumPy arrays to tf tensors\n",
        "import numpy as np\n",
        "numpy_A = np.arange(1, 25, dtype = np.int32) ## create NumPy array between 1 and 25\n",
        "numpy_A\n",
        "\n",
        "# X = tf.constant(some_matrix) # capital for matrix\n",
        "# y = tf.constant(vector) # non-capital for vector"
      ],
      "metadata": {
        "id": "u5HbUxaaah8O"
      },
      "execution_count": null,
      "outputs": []
    },
    {
      "cell_type": "code",
      "source": [
        "A = tf.constant(numpy_A, shape = (3, 8))\n",
        "B = tf.constant(numpy_A)\n",
        "A, B"
      ],
      "metadata": {
        "id": "nAHUwVZobdK1"
      },
      "execution_count": null,
      "outputs": []
    },
    {
      "cell_type": "markdown",
      "source": [
        "### Getting information from tensors \n",
        "\n",
        "When dealing with tensors you probably want to be aware of the following attributes\n",
        "\n",
        "* Shape\n",
        "* Rank\n",
        "* Axis or Dimension\n",
        "* Size"
      ],
      "metadata": {
        "id": "hwN5v3B4bpft"
      }
    },
    {
      "cell_type": "code",
      "source": [
        "# Create a rank 4 tensor(4 dimensions)\n",
        "rank_4_tensor = tf.zeros(shape = [2, 3, 4, 5])\n",
        "rank_4_tensor"
      ],
      "metadata": {
        "id": "_TXDVY5jcidm"
      },
      "execution_count": null,
      "outputs": []
    },
    {
      "cell_type": "code",
      "source": [
        "rank_4_tensor.shape, rank_4_tensor.ndim, tf.size(rank_4_tensor)"
      ],
      "metadata": {
        "id": "fI7HyoD9du5O"
      },
      "execution_count": null,
      "outputs": []
    },
    {
      "cell_type": "code",
      "source": [
        "# Get various attributes of a tensor\n",
        "print(\"Datatype of every elemnt:\", rank_4_tensor.dtype)\n",
        "print(\"Number of dimensions (rank):\", rank_4_tensor.ndim)\n",
        "print(\"Shape of tensor:\", rank_4_tensor.shape)\n",
        "print(\"Elemnts along the 0 axis:\", rank_4_tensor.shape[0])\n",
        "print(\"Elemnts alomg the last axis:\", rank_4_tensor.shape[-1])\n",
        "print(\"Total number of elemnts in our tensor:\", tf.size(rank_4_tensor))\n",
        "print(\"Total number of elemnts in our tensor:\", tf.size(rank_4_tensor).numpy())"
      ],
      "metadata": {
        "id": "s3WbrYPweC_1"
      },
      "execution_count": null,
      "outputs": []
    },
    {
      "cell_type": "markdown",
      "source": [
        "### Indexing tensors\n",
        "\n",
        "Tensors can be indexed just like Python lists"
      ],
      "metadata": {
        "id": "xVLkyvZqfPZ9"
      }
    },
    {
      "cell_type": "code",
      "source": [
        "# Get the first 2 elements of each dimension\n",
        "rank_4_tensor[:2, :2, :2, :2]"
      ],
      "metadata": {
        "id": "7LkZMC4zgrfe"
      },
      "execution_count": null,
      "outputs": []
    },
    {
      "cell_type": "code",
      "source": [
        "# Get the first element each dimension from each index except for the final one\n",
        "rank_4_tensor[:1, :1, :1, :]"
      ],
      "metadata": {
        "id": "H2s8yKMSg34M"
      },
      "execution_count": null,
      "outputs": []
    },
    {
      "cell_type": "code",
      "source": [
        "# Create a rank 2 tensor (2 dimensions)\n",
        "rank_2_tensor = tf.constant([[10, 7],\n",
        "                             [3, 4]])\n",
        "rank_2_tensor.shape, rank_2_tensor.ndim\n",
        "rank_2_tensor"
      ],
      "metadata": {
        "id": "M--GIRgIhUkN"
      },
      "execution_count": null,
      "outputs": []
    },
    {
      "cell_type": "code",
      "source": [
        "# Get the last item of each row of our rank  sector\n",
        "rank_2_tensor[:, -1]"
      ],
      "metadata": {
        "id": "RqKf252XiD0F"
      },
      "execution_count": null,
      "outputs": []
    },
    {
      "cell_type": "code",
      "source": [
        "# Add in extra dimension to our rank 2 tensor\n",
        "rank_3_tensor = rank_2_tensor[..., tf.newaxis]\n",
        "rank_3_tensor"
      ],
      "metadata": {
        "id": "fZco8W_-ihLs"
      },
      "execution_count": null,
      "outputs": []
    },
    {
      "cell_type": "code",
      "source": [
        " # Alternative to tf.newaxis\n",
        " tf.expand_dims(rank_2_tensor, axis =-1)"
      ],
      "metadata": {
        "id": "9f_G6MIul1Dd"
      },
      "execution_count": null,
      "outputs": []
    },
    {
      "cell_type": "code",
      "source": [
        "# Expand 0 axis\n",
        "tf.expand_dims(rank_2_tensor, axis = 0)"
      ],
      "metadata": {
        "id": "u751FbsmoFbc"
      },
      "execution_count": null,
      "outputs": []
    },
    {
      "cell_type": "markdown",
      "source": [
        "### Manipulating tensors (tensor operations)\n",
        "\n",
        "** Basic operations\n",
        "\n",
        "`+`, `-`, `*`, `:`"
      ],
      "metadata": {
        "id": "B1Gx4TwhoKR0"
      }
    },
    {
      "cell_type": "code",
      "source": [
        "## You can add valuses to a tensor using the addition operator\n",
        "tensor = tf.constant([[10, 7],\n",
        "                      [3, 4]])\n",
        "tensor + 10"
      ],
      "metadata": {
        "id": "lPEwf6g8obKV"
      },
      "execution_count": null,
      "outputs": []
    },
    {
      "cell_type": "code",
      "source": [
        "# Original tensor is unchaned\n",
        "tensor"
      ],
      "metadata": {
        "id": "vJX60fyepA0Z"
      },
      "execution_count": null,
      "outputs": []
    },
    {
      "cell_type": "code",
      "source": [
        "# Multiplication also works\n",
        "tensor*10"
      ],
      "metadata": {
        "id": "wS8m5RNFpPct"
      },
      "execution_count": null,
      "outputs": []
    },
    {
      "cell_type": "code",
      "source": [
        "# Subtraction\n",
        "tensor-10"
      ],
      "metadata": {
        "id": "2zEIEiTVpYoz"
      },
      "execution_count": null,
      "outputs": []
    },
    {
      "cell_type": "code",
      "source": [
        "# We can use the tensoflow built in function\n",
        "tf.multiply(tensor, 10)"
      ],
      "metadata": {
        "id": "kHYJKFhFpbez"
      },
      "execution_count": null,
      "outputs": []
    },
    {
      "cell_type": "code",
      "source": [
        "tensor"
      ],
      "metadata": {
        "id": "JKgDC-9jpmAM"
      },
      "execution_count": null,
      "outputs": []
    },
    {
      "cell_type": "code",
      "source": [
        "tf.add(tensor, 10)"
      ],
      "metadata": {
        "id": "JVN1agyXp3WV"
      },
      "execution_count": null,
      "outputs": []
    },
    {
      "cell_type": "markdown",
      "source": [
        "**Matrix Multiplication**\n",
        "\n",
        "In machine learning matrix multiplication is one of the most common tensor operations.\n",
        "\n",
        "There are two rules that tensors needs to fulfill if we're going to matrix multiply them:\n",
        "1. The inner dimensions must match\n",
        "2. The resulting matrix has the shape of the outer dimensions"
      ],
      "metadata": {
        "id": "f-sF8EIip_OU"
      }
    },
    {
      "cell_type": "code",
      "source": [
        "# Matrix multiplication in tensorflow\n",
        "print(tensor)\n",
        "tf.matmul(tensor, tensor)"
      ],
      "metadata": {
        "id": "dwTBWKHyrPY0"
      },
      "execution_count": null,
      "outputs": []
    },
    {
      "cell_type": "code",
      "source": [
        "#Matrix multiplication ptyhon has operaor \"@\"\n",
        "tensor*tensor # element by elemnt multiplication\n",
        "tensor@tensor"
      ],
      "metadata": {
        "id": "4c6qE9T_ra6M"
      },
      "execution_count": null,
      "outputs": []
    },
    {
      "cell_type": "code",
      "source": [
        "# Create a tensor of (3,2)\n",
        "tensor_1 = tf.constant([[1, 2, 5],\n",
        "                        [7, 2, 1],\n",
        "                        [3, 3, 3]])\n",
        "X = tf.constant([[1, 2],\n",
        "                [3, 4],\n",
        "                [5, 6]])\n",
        "\n",
        "#Create another (3,2) tensor\n",
        "Y = tf.constant([[7, 8],\n",
        "                [9, 10],\n",
        "                [11, 12]])"
      ],
      "metadata": {
        "id": "sq5xrUPPrpb8"
      },
      "execution_count": null,
      "outputs": []
    },
    {
      "cell_type": "code",
      "source": [
        "# Change the shape of Y\n",
        "tf.reshape(Y, shape=(2,3))"
      ],
      "metadata": {
        "id": "ohac_pcnsAPr"
      },
      "execution_count": null,
      "outputs": []
    },
    {
      "cell_type": "code",
      "source": [
        "Y"
      ],
      "metadata": {
        "id": "amOd5MsfvM18"
      },
      "execution_count": null,
      "outputs": []
    },
    {
      "cell_type": "code",
      "source": [
        "# Try to multipltly X by reshaped Y\n",
        "X.shape, tf.reshape(Y, shape = (2,3)).shape"
      ],
      "metadata": {
        "id": "KTWKUp_pvOEs"
      },
      "execution_count": null,
      "outputs": []
    },
    {
      "cell_type": "code",
      "source": [
        "X @ tf.reshape(Y, shape = (2,3))"
      ],
      "metadata": {
        "id": "o3kWXhDHvgQU"
      },
      "execution_count": null,
      "outputs": []
    },
    {
      "cell_type": "code",
      "source": [
        "tf.matmul(X, tf.reshape(Y, shape = (2,3)))"
      ],
      "metadata": {
        "id": "7H7wJ9dCvlAU"
      },
      "execution_count": null,
      "outputs": []
    },
    {
      "cell_type": "code",
      "source": [
        "# Try change the shape of X instead of Y\n",
        "tf.matmul(tf.reshape(X, shape = (2,3)), Y)"
      ],
      "metadata": {
        "id": "2riocdwavtY0"
      },
      "execution_count": null,
      "outputs": []
    },
    {
      "cell_type": "code",
      "source": [
        "tf.reshape(X, shape = (2,3)).shape, Y.shape"
      ],
      "metadata": {
        "id": "_aipn3Owv0-j"
      },
      "execution_count": null,
      "outputs": []
    },
    {
      "cell_type": "code",
      "source": [
        "# Can do the same with transpose\n",
        "X, tf.transpose(X), tf.reshape(X, shape = (2,3))"
      ],
      "metadata": {
        "id": "qhK2g5uDwP1r"
      },
      "execution_count": null,
      "outputs": []
    },
    {
      "cell_type": "code",
      "source": [
        "# Try multiplication with transpose rather tahn reshape\n",
        "tf.matmul(tf.transpose(X), Y)"
      ],
      "metadata": {
        "id": "jpk3BiYEw_yb"
      },
      "execution_count": null,
      "outputs": []
    },
    {
      "cell_type": "markdown",
      "source": [
        "**The dot product**\n",
        "Matrix multiplication is also reffered to as the dot product.\n",
        "\n",
        "You can preform matrix multiplication using:\n",
        "* `tf.mamul()`\n",
        "* `tf.tensordot`"
      ],
      "metadata": {
        "id": "_Ijz8ULDxh4b"
      }
    },
    {
      "cell_type": "code",
      "source": [
        "X, Y"
      ],
      "metadata": {
        "id": "TqyPiMXcym7q"
      },
      "execution_count": null,
      "outputs": []
    },
    {
      "cell_type": "code",
      "source": [
        "# Preform dot product on X and Y (require X or Y to be transposed)\n",
        "tf.tensordot(tf.transpose(X), Y, axes = 1)"
      ],
      "metadata": {
        "id": "HTo3InKzyU7r"
      },
      "execution_count": null,
      "outputs": []
    },
    {
      "cell_type": "code",
      "source": [
        "# Perform matrix multiplication between X and Y transpose\n",
        "tf.matmul(X, tf.transpose(Y))"
      ],
      "metadata": {
        "id": "yKKSXjbEylO8"
      },
      "execution_count": null,
      "outputs": []
    },
    {
      "cell_type": "code",
      "source": [
        "# Preform matrix multiplication betwenn X and Y (reshaped)\n",
        "tf.matmul(X, tf.reshape(Y, shape = (2,3)))"
      ],
      "metadata": {
        "id": "ApYyBP5JzF1z"
      },
      "execution_count": null,
      "outputs": []
    },
    {
      "cell_type": "code",
      "source": [
        "# Check the values of Y, reshape and transposed Y\n",
        "print(\"Normal Y:\")\n",
        "print(Y, \"\\n\")\n",
        "\n",
        "print(\"Y reshaped to (2,3):\")\n",
        "print(tf.reshape(Y, shape = (2,3)), \"\\n\")\n",
        "\n",
        "print(\"Y Trnasposed\")\n",
        "print(tf.transpose(Y))"
      ],
      "metadata": {
        "id": "1YZiNBwezq07"
      },
      "execution_count": null,
      "outputs": []
    },
    {
      "cell_type": "code",
      "source": [
        "tf.matmul(X, tf.transpose(Y))"
      ],
      "metadata": {
        "id": "nWT3toc-0Qc7"
      },
      "execution_count": null,
      "outputs": []
    },
    {
      "cell_type": "markdown",
      "source": [
        "Generally when preforming matrix multiplication on two tensors, and one of the axes does'nt line up, you will transpose (rather than reshape the tensors) to satisfy matrix multiplication rules."
      ],
      "metadata": {
        "id": "GnOOLXoS0elU"
      }
    },
    {
      "cell_type": "markdown",
      "source": [
        "### Changing the data type of a tensor"
      ],
      "metadata": {
        "id": "yimm9XVO0-Mr"
      }
    },
    {
      "cell_type": "code",
      "source": [
        "# Create new tensor with default datatype (float 32)\n",
        "B = tf.constant([1.7, 7.4])\n",
        "B, B.dtype"
      ],
      "metadata": {
        "id": "UOrm__Iz1C4D"
      },
      "execution_count": null,
      "outputs": []
    },
    {
      "cell_type": "code",
      "source": [
        "C = tf.constant([7, 10])\n",
        "C.dtype"
      ],
      "metadata": {
        "id": "PQoMzbT51SxL"
      },
      "execution_count": null,
      "outputs": []
    },
    {
      "cell_type": "code",
      "source": [
        "# Change from float32 to float16\n",
        "D = tf.cast(B, dtype = tf.float16)\n",
        "D, D.dtype"
      ],
      "metadata": {
        "id": "V39KQsvW1gz8"
      },
      "execution_count": null,
      "outputs": []
    },
    {
      "cell_type": "code",
      "source": [
        "# Change from int32 to float32\n",
        "E = tf.cast(C, dtype = tf.float32)\n",
        "E"
      ],
      "metadata": {
        "id": "8U0Lhn0q2Der"
      },
      "execution_count": null,
      "outputs": []
    },
    {
      "cell_type": "code",
      "source": [
        "E_float16 = tf.cast(E, dtype=tf.float16)\n",
        "E_float16"
      ],
      "metadata": {
        "id": "TRRF17l_2bwb"
      },
      "execution_count": null,
      "outputs": []
    },
    {
      "cell_type": "markdown",
      "source": [
        "### Aggregating Tensors\n",
        "\n",
        "Aggregating tensors = densing from multiple values to smaller amount of values."
      ],
      "metadata": {
        "id": "VGJCY-g32n5z"
      }
    },
    {
      "cell_type": "code",
      "source": [
        "# Get the absolute values\n",
        "D = tf.constant([-7, -10])\n",
        "D"
      ],
      "metadata": {
        "id": "Vhu8CS8s3c8j"
      },
      "execution_count": null,
      "outputs": []
    },
    {
      "cell_type": "code",
      "source": [
        "# Get the absolute values\n",
        "tf.abs(D)"
      ],
      "metadata": {
        "id": "zRaJcJnl31DD"
      },
      "execution_count": null,
      "outputs": []
    },
    {
      "cell_type": "markdown",
      "source": [
        "Let's go through the following form of aggregation\n",
        "* Get the minimum\n",
        "* Get the maximum\n",
        "* Get the mean of a tensor\n",
        "* Get the sum of tensor\n"
      ],
      "metadata": {
        "id": "xEH5dCG835NC"
      }
    },
    {
      "cell_type": "code",
      "source": [
        "# Create a random tensor with values between 0 to a 100 of size 50\n",
        "E = tf.constant(np.random.randint(0, 100, size = 50))\n",
        "E"
      ],
      "metadata": {
        "id": "q2Cs7zQU4S5j"
      },
      "execution_count": null,
      "outputs": []
    },
    {
      "cell_type": "code",
      "source": [
        "tf.size(E), E.shape, E.ndim"
      ],
      "metadata": {
        "id": "wPiVdGnM4gg7"
      },
      "execution_count": null,
      "outputs": []
    },
    {
      "cell_type": "code",
      "source": [
        "# Find the minimum\n",
        "tf.reduce_min(E)"
      ],
      "metadata": {
        "id": "nio8jDWg4qAL"
      },
      "execution_count": null,
      "outputs": []
    },
    {
      "cell_type": "code",
      "source": [
        "np.min(E)"
      ],
      "metadata": {
        "id": "9N9ziBji4vz7"
      },
      "execution_count": null,
      "outputs": []
    },
    {
      "cell_type": "code",
      "source": [
        "# Find the maximum\n",
        "tf.reduce_max(E)"
      ],
      "metadata": {
        "id": "Saw5P6pq4zPb"
      },
      "execution_count": null,
      "outputs": []
    },
    {
      "cell_type": "code",
      "source": [
        "# Find the mean\n",
        "tf.reduce_mean(E)"
      ],
      "metadata": {
        "id": "7j1Vni3F45CT"
      },
      "execution_count": null,
      "outputs": []
    },
    {
      "cell_type": "code",
      "source": [
        "# Find the sum \n",
        "tf.reduce_sum(E)"
      ],
      "metadata": {
        "id": "jtJcCmdb49br"
      },
      "execution_count": null,
      "outputs": []
    },
    {
      "cell_type": "code",
      "source": [
        "# Find the variance"
      ],
      "metadata": {
        "id": "J8yZeNW45Egz"
      },
      "execution_count": null,
      "outputs": []
    },
    {
      "cell_type": "code",
      "source": [
        "tf.math.reduce_std(tf.cast(E, dtype = tf.float32))"
      ],
      "metadata": {
        "id": "3J4qmroF6Pbb"
      },
      "execution_count": null,
      "outputs": []
    },
    {
      "cell_type": "code",
      "source": [
        "tf.math.reduce_variance(tf.cast(E, dtype = tf.float32))"
      ],
      "metadata": {
        "id": "4J0BhJMn6cez"
      },
      "execution_count": null,
      "outputs": []
    },
    {
      "cell_type": "markdown",
      "source": [
        "### Find positional maximum and minimum of a tensor"
      ],
      "metadata": {
        "id": "Iyn2yhOp6iB6"
      }
    },
    {
      "cell_type": "code",
      "source": [
        "# Create a new tnsor for finding positinal minimum and maximum\n",
        "tf.random.set_seed(42)\n",
        "F = tf.random.uniform(shape = [50])\n",
        "F"
      ],
      "metadata": {
        "id": "Ubk2ErzB8ZpT"
      },
      "execution_count": null,
      "outputs": []
    },
    {
      "cell_type": "code",
      "source": [
        "# Find the posisitional maximum\n",
        "tf.argmax(F)"
      ],
      "metadata": {
        "id": "nfdPxn_29mRa"
      },
      "execution_count": null,
      "outputs": []
    },
    {
      "cell_type": "code",
      "source": [
        "# Index on our largest value position\n",
        "F[tf.argmax(F)]"
      ],
      "metadata": {
        "id": "ei9Ae42A9zUD"
      },
      "execution_count": null,
      "outputs": []
    },
    {
      "cell_type": "code",
      "source": [
        "# Find max value in F\n",
        "tf.reduce_max(F)"
      ],
      "metadata": {
        "id": "buYrim1_9_Nq"
      },
      "execution_count": null,
      "outputs": []
    },
    {
      "cell_type": "code",
      "source": [
        "# Check for equality\n",
        "F[tf.argmax(F)] == tf.reduce_max(F)"
      ],
      "metadata": {
        "id": "sPv7hRJF-EgK"
      },
      "execution_count": null,
      "outputs": []
    },
    {
      "cell_type": "code",
      "source": [
        "# Find the positional minimum\n",
        "tf.argmin(F)"
      ],
      "metadata": {
        "id": "s4am_oJ0-QLK"
      },
      "execution_count": null,
      "outputs": []
    },
    {
      "cell_type": "code",
      "source": [
        "# Fine the minimum using positional minimum index\n",
        "F[tf.argmin(F)]"
      ],
      "metadata": {
        "id": "hFvRf9P7-eda"
      },
      "execution_count": null,
      "outputs": []
    },
    {
      "cell_type": "markdown",
      "source": [
        "### Squeezing a tensor (removing all single dimensions)"
      ],
      "metadata": {
        "id": "itAupIzb-jHy"
      }
    },
    {
      "cell_type": "code",
      "source": [
        "# Create a tensor to get started\n",
        "tf.random.set_seed(42)\n",
        "G = tf.constant(tf.random.uniform(shape=[50]), shape = [1, 1, 1, 1, 50])\n",
        "G"
      ],
      "metadata": {
        "id": "z7H9rmBL_Z_T"
      },
      "execution_count": null,
      "outputs": []
    },
    {
      "cell_type": "code",
      "source": [
        "G.shape"
      ],
      "metadata": {
        "id": "ij4rbH4f_sbc"
      },
      "execution_count": null,
      "outputs": []
    },
    {
      "cell_type": "code",
      "source": [
        "G_squeezed = tf.squeeze(G)\n",
        "G_squeezed, G_squeezed.shape"
      ],
      "metadata": {
        "id": "U_p7a6vC_v4i"
      },
      "execution_count": null,
      "outputs": []
    },
    {
      "cell_type": "markdown",
      "source": [
        "### One-hot encoding tensors"
      ],
      "metadata": {
        "id": "MTGJy64W_5ua"
      }
    },
    {
      "cell_type": "code",
      "source": [
        "# Create a lost of indices\n",
        "some_list = [0, 1, 2, 3] # could be red, green, blue, purple\n",
        "\n",
        "# One hot encode our list of indices\n",
        "tf.one_hot(some_list, depth = 4)"
      ],
      "metadata": {
        "id": "88fn8OCDABJi"
      },
      "execution_count": null,
      "outputs": []
    },
    {
      "cell_type": "code",
      "source": [
        "# Specify custom values for one-hot encoding\n",
        "tf.one_hot(some_list, depth = 4, on_value=\"yo yo\", off_value=\"mip mip\")"
      ],
      "metadata": {
        "id": "fCaGSAdIAtRC"
      },
      "execution_count": null,
      "outputs": []
    },
    {
      "cell_type": "markdown",
      "source": [
        "### Squaring, log and square root"
      ],
      "metadata": {
        "id": "d59SDgXxBLGT"
      }
    },
    {
      "cell_type": "code",
      "source": [
        "# Create a new tensor\n",
        "H = tf.range(1, 10)\n",
        "H"
      ],
      "metadata": {
        "id": "MO-lgRxtBidj"
      },
      "execution_count": null,
      "outputs": []
    },
    {
      "cell_type": "code",
      "source": [
        "# Square\n",
        "tf.square(H)"
      ],
      "metadata": {
        "id": "VAbp1MJCBnVC"
      },
      "execution_count": null,
      "outputs": []
    },
    {
      "cell_type": "code",
      "source": [
        "# Square root - method requires non-int type\n",
        "tf.sqrt(tf.cast(H, dtype = tf.float32))"
      ],
      "metadata": {
        "id": "HrG5zqRmBqh6"
      },
      "execution_count": null,
      "outputs": []
    },
    {
      "cell_type": "code",
      "source": [
        "# Find the log\n",
        "tf.math.log(tf.cast(H, dtype=tf.float32))"
      ],
      "metadata": {
        "id": "mvIw9eFwB2sK"
      },
      "execution_count": null,
      "outputs": []
    },
    {
      "cell_type": "markdown",
      "source": [
        "### Tensors and NumPy\n",
        "TensorFlow interacts beautifully with NumPy arrays."
      ],
      "metadata": {
        "id": "eXX0teceCG26"
      }
    },
    {
      "cell_type": "code",
      "source": [
        "# Create a tensor directly from a NumPy array\n",
        "J = tf.constant(np.array([3., 7., 10.]))\n",
        "J"
      ],
      "metadata": {
        "id": "CGBm-Z0SCg46"
      },
      "execution_count": null,
      "outputs": []
    },
    {
      "cell_type": "code",
      "source": [
        "np.array(J), type(np.array(J))"
      ],
      "metadata": {
        "id": "kU6Kp9bWC316"
      },
      "execution_count": null,
      "outputs": []
    },
    {
      "cell_type": "code",
      "source": [
        "# Convert tensor J to NumPy array\n",
        "J.numpy(), type(J.numpy())"
      ],
      "metadata": {
        "id": "dekDmcIdC8Tq"
      },
      "execution_count": null,
      "outputs": []
    },
    {
      "cell_type": "code",
      "source": [
        "J = tf.constant([3.])\n",
        "J.numpy()[0]"
      ],
      "metadata": {
        "id": "c0oBeTzGDCxK"
      },
      "execution_count": null,
      "outputs": []
    },
    {
      "cell_type": "code",
      "source": [
        "# The defualt types of each are slightly different\n",
        "numpy_J = tf.constant(np.array([3., 7., 10.]))\n",
        "tensor_J = tf.constant([3., 7., 10.])\n",
        "\n",
        "numpy_J.dtype, tensor_J.dtype"
      ],
      "metadata": {
        "id": "DvBJldcMDNPh"
      },
      "execution_count": null,
      "outputs": []
    },
    {
      "cell_type": "markdown",
      "source": [
        "### Finding access to GPUs"
      ],
      "metadata": {
        "id": "ohs4-UVzDkHq"
      }
    },
    {
      "cell_type": "code",
      "source": [
        "import tensorflow as tf\n",
        "tf.config.list_logical_devices(\"GPU\")"
      ],
      "metadata": {
        "colab": {
          "base_uri": "https://localhost:8080/"
        },
        "id": "LLs-AKY_EUuM",
        "outputId": "86f3dd1e-363a-4057-cd2e-bf0194736c63"
      },
      "execution_count": null,
      "outputs": [
        {
          "output_type": "execute_result",
          "data": {
            "text/plain": [
              "[LogicalDevice(name='/device:GPU:0', device_type='GPU')]"
            ]
          },
          "metadata": {},
          "execution_count": 17
        }
      ]
    },
    {
      "cell_type": "markdown",
      "source": [
        "### Extra Curiculum"
      ],
      "metadata": {
        "id": "OIW2LRciFQ-6"
      }
    },
    {
      "cell_type": "code",
      "source": [
        "# 1. Create a vector, scalar matrix and tensor\n",
        "# 2. Find shape, rank and size\n",
        "scalar_1 = tf.constant(7)\n",
        "scalar_1, scalar_1.shape, scalar_1.ndim, tf.size(scalar_1)"
      ],
      "metadata": {
        "colab": {
          "base_uri": "https://localhost:8080/"
        },
        "id": "gMwAh1ePRZ3o",
        "outputId": "da943821-f326-4e74-8e69-ba90f9fa47ce"
      },
      "execution_count": null,
      "outputs": [
        {
          "output_type": "execute_result",
          "data": {
            "text/plain": [
              "(<tf.Tensor: shape=(), dtype=int32, numpy=7>,\n",
              " TensorShape([]),\n",
              " 0,\n",
              " <tf.Tensor: shape=(), dtype=int32, numpy=1>)"
            ]
          },
          "metadata": {},
          "execution_count": 33
        }
      ]
    },
    {
      "cell_type": "code",
      "source": [
        "vector_1 = tf.constant([3, 2])\n",
        "vector_1, vector_1.shape, vector_1.ndim, tf.size(vector_1)"
      ],
      "metadata": {
        "colab": {
          "base_uri": "https://localhost:8080/"
        },
        "id": "DKNT-trPRjPf",
        "outputId": "045f2c25-1b03-4895-ff46-4d5a612b9697"
      },
      "execution_count": null,
      "outputs": [
        {
          "output_type": "execute_result",
          "data": {
            "text/plain": [
              "(<tf.Tensor: shape=(2,), dtype=int32, numpy=array([3, 2], dtype=int32)>,\n",
              " TensorShape([2]),\n",
              " 1,\n",
              " <tf.Tensor: shape=(), dtype=int32, numpy=2>)"
            ]
          },
          "metadata": {},
          "execution_count": 34
        }
      ]
    },
    {
      "cell_type": "code",
      "source": [
        "matrix_1 = tf.constant([[3, 2],\n",
        "                        [5, 4]])\n",
        "matrix_1, matrix_1.shape, matrix_1.ndim, tf.size(matrix_1)"
      ],
      "metadata": {
        "colab": {
          "base_uri": "https://localhost:8080/"
        },
        "id": "1iuNVnPTSF7G",
        "outputId": "5c9b68d5-5543-4da4-cc6b-88b1c70eb831"
      },
      "execution_count": null,
      "outputs": [
        {
          "output_type": "execute_result",
          "data": {
            "text/plain": [
              "(<tf.Tensor: shape=(2, 2), dtype=int32, numpy=\n",
              " array([[3, 2],\n",
              "        [5, 4]], dtype=int32)>,\n",
              " TensorShape([2, 2]),\n",
              " 2,\n",
              " <tf.Tensor: shape=(), dtype=int32, numpy=4>)"
            ]
          },
          "metadata": {},
          "execution_count": 35
        }
      ]
    },
    {
      "cell_type": "code",
      "source": [
        "tensor_1 = tf.constant([[[1, 2],\n",
        "                        [3,4]],\n",
        "                        [[5,6],\n",
        "                        [7,8]]])\n",
        "tensor_1, tensor_1.shape, tensor_1.ndim, tf.size(tensor_1)"
      ],
      "metadata": {
        "colab": {
          "base_uri": "https://localhost:8080/"
        },
        "id": "2YukYj-FSS7u",
        "outputId": "51051d8a-e3d1-4806-bbf6-bbd34c674271"
      },
      "execution_count": null,
      "outputs": [
        {
          "output_type": "execute_result",
          "data": {
            "text/plain": [
              "(<tf.Tensor: shape=(2, 2, 2), dtype=int32, numpy=\n",
              " array([[[1, 2],\n",
              "         [3, 4]],\n",
              " \n",
              "        [[5, 6],\n",
              "         [7, 8]]], dtype=int32)>,\n",
              " TensorShape([2, 2, 2]),\n",
              " 3,\n",
              " <tf.Tensor: shape=(), dtype=int32, numpy=8>)"
            ]
          },
          "metadata": {},
          "execution_count": 38
        }
      ]
    },
    {
      "cell_type": "code",
      "source": [
        "# 3. Create two random tensors of shape [5, 300]\n",
        "tf.random.set_seed(42)\n",
        "X = tf.random.uniform(shape= [5,300], minval = 0, maxval = 1)\n",
        "Y = tf.random.uniform(shape = [5,300], minval = 0, maxval = 1)\n",
        "X, Y"
      ],
      "metadata": {
        "colab": {
          "base_uri": "https://localhost:8080/"
        },
        "id": "tOyAlYXnSpj3",
        "outputId": "a5396405-e703-4b0d-9401-c28836011dd1"
      },
      "execution_count": null,
      "outputs": [
        {
          "output_type": "execute_result",
          "data": {
            "text/plain": [
              "(<tf.Tensor: shape=(5, 300), dtype=float32, numpy=\n",
              " array([[0.6645621 , 0.44100678, 0.3528825 , ..., 0.31410468, 0.7593535 ,\n",
              "         0.03699052],\n",
              "        [0.532024  , 0.29129946, 0.10571766, ..., 0.54052293, 0.31425726,\n",
              "         0.2200619 ],\n",
              "        [0.08404207, 0.03614604, 0.97732127, ..., 0.21516645, 0.9786098 ,\n",
              "         0.00726748],\n",
              "        [0.7396945 , 0.6653172 , 0.0787828 , ..., 0.7117733 , 0.07013571,\n",
              "         0.9409125 ],\n",
              "        [0.15861344, 0.12024033, 0.27218235, ..., 0.8824879 , 0.1432488 ,\n",
              "         0.44135118]], dtype=float32)>,\n",
              " <tf.Tensor: shape=(5, 300), dtype=float32, numpy=\n",
              " array([[0.68789124, 0.48447883, 0.9309944 , ..., 0.6920762 , 0.33180213,\n",
              "         0.9212563 ],\n",
              "        [0.27369928, 0.10631859, 0.6218617 , ..., 0.4382149 , 0.30427706,\n",
              "         0.51477313],\n",
              "        [0.00920248, 0.37280262, 0.8177401 , ..., 0.56786287, 0.49201214,\n",
              "         0.9892651 ],\n",
              "        [0.88608265, 0.08672249, 0.12160683, ..., 0.91770685, 0.72545695,\n",
              "         0.8280058 ],\n",
              "        [0.36690474, 0.9200133 , 0.9646884 , ..., 0.69012   , 0.7137332 ,\n",
              "         0.2584542 ]], dtype=float32)>)"
            ]
          },
          "metadata": {},
          "execution_count": 43
        }
      ]
    },
    {
      "cell_type": "code",
      "source": [
        "# 4. Matrix multiply\n",
        "tf.matmul(X, tf.transpose(Y))"
      ],
      "metadata": {
        "colab": {
          "base_uri": "https://localhost:8080/"
        },
        "id": "ErWIvoGeWpal",
        "outputId": "15638907-3102-4e5b-c2d4-da9bee77eed4"
      },
      "execution_count": null,
      "outputs": [
        {
          "output_type": "execute_result",
          "data": {
            "text/plain": [
              "<tf.Tensor: shape=(5, 5), dtype=float32, numpy=\n",
              "array([[80.333435, 73.40498 , 77.15961 , 73.98368 , 80.90053 ],\n",
              "       [75.14637 , 68.80438 , 74.24303 , 71.84184 , 75.60205 ],\n",
              "       [79.7594  , 75.64456 , 77.79758 , 74.748726, 80.55984 ],\n",
              "       [75.085266, 69.06408 , 74.30776 , 72.27615 , 76.05667 ],\n",
              "       [85.05689 , 74.26629 , 78.00687 , 74.886795, 83.13417 ]],\n",
              "      dtype=float32)>"
            ]
          },
          "metadata": {},
          "execution_count": 46
        }
      ]
    },
    {
      "cell_type": "code",
      "source": [
        "# 5. Dot product\n",
        "tf.tensordot(X, Y, axes = 0)"
      ],
      "metadata": {
        "colab": {
          "base_uri": "https://localhost:8080/"
        },
        "id": "jTw-7pnKX-I-",
        "outputId": "002ebcd6-53a8-4e5f-a6fe-0d21dc7d344b"
      },
      "execution_count": null,
      "outputs": [
        {
          "output_type": "execute_result",
          "data": {
            "text/plain": [
              "<tf.Tensor: shape=(5, 300, 5, 300), dtype=float32, numpy=\n",
              "array([[[[4.57146466e-01, 3.21966261e-01, 6.18703604e-01, ...,\n",
              "          4.59927619e-01, 2.20503122e-01, 6.12232029e-01],\n",
              "         [1.81890175e-01, 7.06553087e-02, 4.13265705e-01, ...,\n",
              "          2.91221023e-01, 2.02211007e-01, 3.42098713e-01],\n",
              "         [6.11561956e-03, 2.47750491e-01, 5.43439090e-01, ...,\n",
              "          3.77380133e-01, 3.26972634e-01, 6.57428086e-01],\n",
              "         [5.88856936e-01, 5.76324835e-02, 8.08152854e-02, ...,\n",
              "          6.09873176e-01, 4.82111186e-01, 5.50261259e-01],\n",
              "         [2.43830979e-01, 6.11405969e-01, 6.41095340e-01, ...,\n",
              "          4.58627582e-01, 4.74320024e-01, 1.71758875e-01]],\n",
              "\n",
              "        [[3.03364694e-01, 2.13658452e-01, 4.10574824e-01, ...,\n",
              "          3.05210292e-01, 1.46326989e-01, 4.06280279e-01],\n",
              "         [1.20703243e-01, 4.68872190e-02, 2.74245232e-01, ...,\n",
              "          1.93255737e-01, 1.34188250e-01, 2.27018446e-01],\n",
              "         [4.05835640e-03, 1.64408475e-01, 3.60628933e-01, ...,\n",
              "          2.50431389e-01, 2.16980696e-01, 4.36272621e-01],\n",
              "         [3.90768468e-01, 3.82452086e-02, 5.36294356e-02, ...,\n",
              "          4.04714942e-01, 3.19931448e-01, 3.65156174e-01],\n",
              "         [1.61807477e-01, 4.05732095e-01, 4.25434142e-01, ...,\n",
              "          3.04347605e-01, 3.14761192e-01, 1.13980055e-01]],\n",
              "\n",
              "        [[2.42744789e-01, 1.70964107e-01, 3.28531623e-01, ...,\n",
              "          2.44221583e-01, 1.17087163e-01, 3.25095236e-01],\n",
              "         [9.65836868e-02, 3.75179723e-02, 2.19444111e-01, ...,\n",
              "          1.54638365e-01, 1.07374050e-01, 1.81654438e-01],\n",
              "         [3.24739423e-03, 1.31555527e-01, 2.88566172e-01, ...,\n",
              "          2.00388879e-01, 1.73622474e-01, 3.49094331e-01],\n",
              "         [3.12683076e-01, 3.06028500e-02, 4.29129228e-02, ...,\n",
              "          3.23842704e-01, 2.56001055e-01, 2.92188764e-01],\n",
              "         [1.29474267e-01, 3.24656606e-01, 3.40421677e-01, ...,\n",
              "          2.43531272e-01, 2.51863956e-01, 9.12039652e-02]],\n",
              "\n",
              "        ...,\n",
              "\n",
              "        [[2.16069862e-01, 1.52177066e-01, 2.92429686e-01, ...,\n",
              "          2.17384368e-01, 1.04220599e-01, 2.89370924e-01],\n",
              "         [8.59702229e-02, 3.33951674e-02, 1.95329666e-01, ...,\n",
              "          1.37645349e-01, 9.55748484e-02, 1.61692649e-01],\n",
              "         [2.89054215e-03, 1.17099047e-01, 2.56855994e-01, ...,\n",
              "          1.78368390e-01, 1.54543310e-01, 3.10732782e-01],\n",
              "         [2.78322697e-01, 2.72399411e-02, 3.81972715e-02, ...,\n",
              "          2.88256019e-01, 2.27869421e-01, 2.60080487e-01],\n",
              "         [1.15246490e-01, 2.88980484e-01, 3.03013146e-01, ...,\n",
              "          2.16769919e-01, 2.24186942e-01, 8.11816752e-02]],\n",
              "\n",
              "        [[5.22352636e-01, 3.67890716e-01, 7.06953883e-01, ...,\n",
              "          5.25530517e-01, 2.51955122e-01, 6.99559212e-01],\n",
              "         [2.07834512e-01, 8.07333961e-02, 4.72212881e-01, ...,\n",
              "          3.32760036e-01, 2.31053859e-01, 3.90894800e-01],\n",
              "         [6.98793586e-03, 2.83088982e-01, 6.20953798e-01, ...,\n",
              "          4.31208670e-01, 3.73611152e-01, 7.51201928e-01],\n",
              "         [6.72849953e-01, 6.58530295e-02, 9.23425704e-02, ...,\n",
              "          6.96863949e-01, 5.50878286e-01, 6.28749132e-01],\n",
              "         [2.78610408e-01, 6.98615372e-01, 7.32539535e-01, ...,\n",
              "          5.24045050e-01, 5.41975796e-01, 1.96258113e-01]],\n",
              "\n",
              "        [[2.54454575e-02, 1.79211255e-02, 3.44379693e-02, ...,\n",
              "          2.56002620e-02, 1.22735342e-02, 3.40777524e-02],\n",
              "         [1.01242801e-02, 3.93278059e-03, 2.30029896e-02, ...,\n",
              "          1.62097979e-02, 1.12553677e-02, 1.90417282e-02],\n",
              "         [3.40404571e-04, 1.37901641e-02, 3.02486345e-02, ...,\n",
              "          2.10055448e-02, 1.81997865e-02, 3.65934335e-02],\n",
              "         [3.27766612e-02, 3.20791034e-03, 4.49830014e-03, ...,\n",
              "          3.39464583e-02, 2.68350318e-02, 3.06283683e-02],\n",
              "         [1.35719981e-02, 3.40317748e-02, 3.56843285e-02, ...,\n",
              "          2.55279001e-02, 2.64013652e-02, 9.56035592e-03]]],\n",
              "\n",
              "\n",
              "       [[[3.65974665e-01, 2.57754385e-01, 4.95311379e-01, ...,\n",
              "          3.68201166e-01, 1.76526710e-01, 4.90130484e-01],\n",
              "         [1.45614594e-01, 5.65640442e-02, 3.30845356e-01, ...,\n",
              "          2.33140856e-01, 1.61882713e-01, 2.73871660e-01],\n",
              "         [4.89594042e-03, 1.98339954e-01, 4.35057372e-01, ...,\n",
              "          3.02116692e-01, 2.61762291e-01, 5.26312768e-01],\n",
              "         [4.71417248e-01, 4.61384505e-02, 6.46977499e-02, ...,\n",
              "          4.88242090e-01, 3.85960519e-01, 4.40518975e-01],\n",
              "         [1.95202127e-01, 4.89469171e-01, 5.13237417e-01, ...,\n",
              "          3.67160410e-01, 3.79723221e-01, 1.37503847e-01]],\n",
              "\n",
              "        [[2.00382352e-01, 1.41128421e-01, 2.71198153e-01, ...,\n",
              "          2.01601431e-01, 9.66537818e-02, 2.68361479e-01],\n",
              "         [7.97284544e-02, 3.09705492e-02, 1.81147978e-01, ...,\n",
              "          1.27651766e-01, 8.86357427e-02, 1.49953142e-01],\n",
              "         [2.68067745e-03, 1.08597204e-01, 2.38207251e-01, ...,\n",
              "          1.65418148e-01, 1.43322870e-01, 2.88172394e-01],\n",
              "         [2.58115411e-01, 2.52622161e-02, 3.54240015e-02, ...,\n",
              "          2.67327517e-01, 2.11325213e-01, 2.41197646e-01],\n",
              "         [1.06879152e-01, 2.67999381e-01, 2.81013221e-01, ...,\n",
              "          2.01031581e-01, 2.07910091e-01, 7.52875730e-02]],\n",
              "\n",
              "        [[7.27222487e-02, 5.12179695e-02, 9.84225497e-02, ...,\n",
              "          7.31646791e-02, 3.50773446e-02, 9.73930582e-02],\n",
              "         [2.89348476e-02, 1.12397531e-02, 6.57417625e-02, ...,\n",
              "          4.63270545e-02, 3.21674570e-02, 5.44206090e-02],\n",
              "         [9.72864684e-04, 3.94118205e-02, 8.64495635e-02, ...,\n",
              "          6.00331314e-02, 5.20143732e-02, 1.04582787e-01],\n",
              "         [9.36745852e-02, 9.16809868e-03, 1.28559889e-02, ...,\n",
              "          9.70178172e-02, 7.66936094e-02, 8.75348374e-02],\n",
              "         [3.87883112e-02, 9.72616524e-02, 1.01984598e-01, ...,\n",
              "          7.29578659e-02, 7.54542053e-02, 2.73231734e-02]],\n",
              "\n",
              "        ...,\n",
              "\n",
              "        [[3.71820986e-01, 2.61871904e-01, 5.03223836e-01, ...,\n",
              "          3.74083072e-01, 1.79346666e-01, 4.97960150e-01],\n",
              "         [1.47940740e-01, 5.74676394e-02, 3.36130500e-01, ...,\n",
              "          2.36865208e-01, 1.64468735e-01, 2.78246671e-01],\n",
              "         [4.97415150e-03, 2.01508358e-01, 4.42007273e-01, ...,\n",
              "          3.06942910e-01, 2.65943855e-01, 5.34720480e-01],\n",
              "         [4.78947997e-01, 4.68754955e-02, 6.57312796e-02, ...,\n",
              "          4.96041596e-01, 3.92126113e-01, 4.47556108e-01],\n",
              "         [1.98320419e-01, 4.97288287e-01, 5.21436214e-01, ...,\n",
              "          3.73025686e-01, 3.85789156e-01, 1.39700428e-01]],\n",
              "\n",
              "        [[2.16174826e-01, 1.52250990e-01, 2.92571753e-01, ...,\n",
              "          2.17489973e-01, 1.04271233e-01, 2.89511472e-01],\n",
              "         [8.60119909e-02, 3.34113911e-02, 1.95424557e-01, ...,\n",
              "          1.37712210e-01, 9.56212804e-02, 1.61771193e-01],\n",
              "         [2.89194635e-03, 1.17155932e-01, 2.56980747e-01, ...,\n",
              "          1.78455025e-01, 1.54618397e-01, 3.10883731e-01],\n",
              "         [2.78457910e-01, 2.72531733e-02, 3.82158272e-02, ...,\n",
              "          2.88396031e-01, 2.27980122e-01, 2.60206848e-01],\n",
              "         [1.15302481e-01, 2.89120853e-01, 3.03160340e-01, ...,\n",
              "          2.16875210e-01, 2.24295840e-01, 8.12211111e-02]],\n",
              "\n",
              "        [[1.51378646e-01, 1.06615335e-01, 2.04876393e-01, ...,\n",
              "          1.52299598e-01, 7.30170086e-02, 2.02733412e-01],\n",
              "         [6.02307841e-02, 2.33966708e-02, 1.36848062e-01, ...,\n",
              "          9.64343995e-02, 6.69597909e-02, 1.13281950e-01],\n",
              "         [2.02511530e-03, 8.20396543e-02, 1.79953441e-01, ...,\n",
              "          1.24964982e-01, 1.08273126e-01, 2.17699558e-01],\n",
              "         [1.94993034e-01, 1.90843157e-02, 2.67610289e-02, ...,\n",
              "          2.01952308e-01, 1.59645438e-01, 1.82212532e-01],\n",
              "         [8.07417557e-02, 2.02459872e-01, 2.12291166e-01, ...,\n",
              "          1.51869118e-01, 1.57065481e-01, 5.68759218e-02]]],\n",
              "\n",
              "\n",
              "       [[[5.78118041e-02, 4.07166034e-02, 7.82426968e-02, ...,\n",
              "          5.81635199e-02, 2.78853383e-02, 7.74242878e-02],\n",
              "         [2.30022557e-02, 8.93523451e-03, 5.22625446e-02, ...,\n",
              "          3.68284881e-02, 2.55720746e-02, 4.32626009e-02],\n",
              "         [7.73395528e-04, 3.13311033e-02, 6.87245727e-02, ...,\n",
              "          4.77243736e-02, 4.13497202e-02, 8.31398889e-02],\n",
              "         [7.44682252e-02, 7.28833815e-03, 1.02200899e-02, ...,\n",
              "          7.71259889e-02, 6.09689057e-02, 6.95873201e-02],\n",
              "         [3.08354348e-02, 7.73198232e-02, 8.10744166e-02, ...,\n",
              "          5.79991117e-02, 5.99836186e-02, 2.17210278e-02]],\n",
              "\n",
              "        [[2.48645470e-02, 1.75119936e-02, 3.36517654e-02, ...,\n",
              "          2.50158180e-02, 1.19933346e-02, 3.32997702e-02],\n",
              "         [9.89314634e-03, 3.84299667e-03, 2.24778410e-02, ...,\n",
              "          1.58397350e-02, 1.09984120e-02, 1.86070129e-02],\n",
              "         [3.32633266e-04, 1.34753399e-02, 2.95580700e-02, ...,\n",
              "          2.05259975e-02, 1.77842937e-02, 3.57580185e-02],\n",
              "         [3.20283845e-02, 3.13467509e-03, 4.39560600e-03, ...,\n",
              "          3.31714712e-02, 2.62224004e-02, 2.99291350e-02],\n",
              "         [1.32621545e-02, 3.32548432e-02, 3.48696709e-02, ...,\n",
              "          2.49451082e-02, 2.57986318e-02, 9.34209675e-03]],\n",
              "\n",
              "        [[6.72290742e-01, 4.73491460e-01, 9.09880638e-01, ...,\n",
              "          6.76380813e-01, 3.24277282e-01, 9.00363386e-01],\n",
              "         [2.67492145e-01, 1.03907421e-01, 6.07758641e-01, ...,\n",
              "          4.28276747e-01, 2.97376454e-01, 5.03098726e-01],\n",
              "         [8.99377931e-03, 3.64347935e-01, 7.99194753e-01, ...,\n",
              "          5.54984450e-01, 4.80853945e-01, 9.66829777e-01],\n",
              "         [8.65987420e-01, 8.47557336e-02, 1.18848935e-01, ...,\n",
              "          8.96894395e-01, 7.09004521e-01, 8.09227645e-01],\n",
              "         [3.58583808e-01, 8.99148583e-01, 9.42810535e-01, ...,\n",
              "          6.74468935e-01, 6.97546661e-01, 2.52592802e-01]],\n",
              "\n",
              "        ...,\n",
              "\n",
              "        [[1.48011118e-01, 1.04243591e-01, 2.00318754e-01, ...,\n",
              "          1.48911580e-01, 7.13926852e-02, 1.98223442e-01],\n",
              "         [5.88909015e-02, 2.28761937e-02, 1.33803770e-01, ...,\n",
              "          9.42891464e-02, 6.54702187e-02, 1.10761903e-01],\n",
              "         [1.98006490e-03, 8.02146122e-02, 1.75950229e-01, ...,\n",
              "          1.22185037e-01, 1.05864502e-01, 2.12856650e-01],\n",
              "         [1.90655261e-01, 1.86597705e-02, 2.61657089e-02, ...,\n",
              "          1.97459728e-01, 1.56094000e-01, 1.78159073e-01],\n",
              "         [7.89455920e-02, 1.97955996e-01, 2.07568586e-01, ...,\n",
              "          1.48490667e-01, 1.53571442e-01, 5.56106716e-02]],\n",
              "\n",
              "        [[6.73177123e-01, 4.74115729e-01, 9.11080241e-01, ...,\n",
              "          6.77272558e-01, 3.24704826e-01, 9.01550472e-01],\n",
              "         [2.67844796e-01, 1.04044415e-01, 6.08559966e-01, ...,\n",
              "          4.28841382e-01, 2.97768503e-01, 5.03762007e-01],\n",
              "         [9.00563784e-03, 3.64828289e-01, 8.00248444e-01, ...,\n",
              "          5.55716157e-01, 4.81487900e-01, 9.68104482e-01],\n",
              "         [8.67129147e-01, 8.48674849e-02, 1.19005635e-01, ...,\n",
              "          8.98076892e-01, 7.09939301e-01, 8.10294569e-01],\n",
              "         [3.59056562e-01, 9.00334060e-01, 9.44053531e-01, ...,\n",
              "          6.75358176e-01, 6.98466301e-01, 2.52925813e-01]],\n",
              "\n",
              "        [[4.99923248e-03, 3.52093787e-03, 6.76597841e-03, ...,\n",
              "          5.02964668e-03, 2.41136365e-03, 6.69520721e-03],\n",
              "         [1.98910269e-03, 7.72667758e-04, 4.51936433e-03, ...,\n",
              "          3.18471598e-03, 2.21132603e-03, 3.74110090e-03],\n",
              "         [6.68787980e-05, 2.70933378e-03, 5.94290579e-03, ...,\n",
              "          4.12692921e-03, 3.57568590e-03, 7.18945917e-03],\n",
              "         [6.43958384e-03, 6.30253577e-04, 8.83774599e-04, ...,\n",
              "          6.66941190e-03, 5.27224038e-03, 6.01751171e-03],\n",
              "         [2.66647106e-03, 6.68617385e-03, 7.01084919e-03, ...,\n",
              "          5.01542957e-03, 5.18703833e-03, 1.87830953e-03]]],\n",
              "\n",
              "\n",
              "       [[[5.08829355e-01, 3.58366311e-01, 6.88651383e-01, ...,\n",
              "          5.11924922e-01, 2.45432198e-01, 6.81448221e-01],\n",
              "         [2.02453852e-01, 7.86432773e-02, 4.59987670e-01, ...,\n",
              "          3.24145138e-01, 2.25072056e-01, 3.80774856e-01],\n",
              "         [6.80702366e-03, 2.75760025e-01, 6.04877830e-01, ...,\n",
              "          4.20045018e-01, 3.63938659e-01, 7.31753945e-01],\n",
              "         [6.55430436e-01, 6.41481504e-02, 8.99518952e-02, ...,\n",
              "          6.78822696e-01, 5.36616504e-01, 6.12471282e-01],\n",
              "         [2.71397412e-01, 6.80528760e-01, 7.13574708e-01, ...,\n",
              "          5.10477960e-01, 5.27944505e-01, 1.91177145e-01]],\n",
              "\n",
              "        [[4.57665861e-01, 3.22332084e-01, 6.19406581e-01, ...,\n",
              "          4.60450202e-01, 2.20753655e-01, 6.12927616e-01],\n",
              "         [1.82096839e-01, 7.07355887e-02, 4.13735271e-01, ...,\n",
              "          2.91551888e-01, 2.02440754e-01, 3.42487395e-01],\n",
              "         [6.12256816e-03, 2.48031989e-01, 5.44056535e-01, ...,\n",
              "          3.77808928e-01, 3.27344120e-01, 6.58175051e-01],\n",
              "         [5.89525998e-01, 5.76979630e-02, 8.09071139e-02, ...,\n",
              "          6.10566139e-01, 4.82658982e-01, 5.50886452e-01],\n",
              "         [2.44108021e-01, 6.12100661e-01, 6.41823769e-01, ...,\n",
              "          4.59148675e-01, 4.74858969e-01, 1.71954021e-01]],\n",
              "\n",
              "        [[5.41939959e-02, 3.81685980e-02, 7.33463392e-02, ...,\n",
              "          5.45236990e-02, 2.61403006e-02, 7.25791454e-02],\n",
              "         [2.15627942e-02, 8.37607589e-03, 4.89920042e-02, ...,\n",
              "          3.45237963e-02, 2.39717979e-02, 4.05552685e-02],\n",
              "         [7.24997139e-04, 2.93704327e-02, 6.44238517e-02, ...,\n",
              "          4.47378233e-02, 3.87620926e-02, 7.79370666e-02],\n",
              "         [6.98080659e-02, 6.83224062e-03, 9.58052557e-03, ...,\n",
              "          7.22995102e-02, 5.71535267e-02, 6.52326122e-02],\n",
              "         [2.89057810e-02, 7.24812225e-02, 7.60008544e-02, ...,\n",
              "          5.43695837e-02, 5.62298968e-02, 2.03617457e-02]],\n",
              "\n",
              "        ...,\n",
              "\n",
              "        [[4.89622593e-01, 3.44839096e-01, 6.62656903e-01, ...,\n",
              "          4.92601335e-01, 2.36167893e-01, 6.55725598e-01],\n",
              "         [1.94811836e-01, 7.56747350e-02, 4.42624539e-01, ...,\n",
              "          3.11909646e-01, 2.16576278e-01, 3.66401762e-01],\n",
              "         [6.55007968e-03, 2.65350938e-01, 5.82045555e-01, ...,\n",
              "          4.04189616e-01, 3.50201100e-01, 7.04132438e-01],\n",
              "         [6.30689979e-01, 6.17267527e-02, 8.65564868e-02, ...,\n",
              "          6.53199196e-01, 5.16360879e-01, 5.89352369e-01],\n",
              "         [2.61152983e-01, 6.54840887e-01, 6.86639428e-01, ...,\n",
              "          4.91208971e-01, 5.08016229e-01, 1.83960795e-01]],\n",
              "\n",
              "        [[4.82457429e-02, 3.39792669e-02, 6.52959570e-02, ...,\n",
              "          4.85392585e-02, 2.32711788e-02, 6.46129698e-02],\n",
              "         [1.91960949e-02, 7.45673012e-03, 4.36147116e-02, ...,\n",
              "          3.07345148e-02, 2.13406887e-02, 3.61039788e-02],\n",
              "         [6.45422493e-04, 2.61467770e-02, 5.73527850e-02, ...,\n",
              "          3.98274660e-02, 3.45076211e-02, 6.93828091e-02],\n",
              "         [6.21460378e-02, 6.08234387e-03, 8.52898136e-03, ...,\n",
              "          6.43640235e-02, 5.08804396e-02, 5.80727756e-02],\n",
              "         [2.57331245e-02, 6.45257905e-02, 6.76591098e-02, ...,\n",
              "          4.84020561e-02, 5.00581861e-02, 1.81268696e-02]],\n",
              "\n",
              "        [[6.47245467e-01, 4.55852181e-01, 8.75984251e-01, ...,\n",
              "          6.51183128e-01, 3.12196761e-01, 8.66821587e-01],\n",
              "         [2.57527083e-01, 1.00036494e-01, 5.85117459e-01, ...,\n",
              "          4.12321866e-01, 2.86298096e-01, 4.84356463e-01],\n",
              "         [8.65872856e-03, 3.50774646e-01, 7.69421875e-01, ...,\n",
              "          5.34309268e-01, 4.62940365e-01, 9.30811882e-01],\n",
              "         [8.33726227e-01, 8.15982744e-02, 1.14421383e-01, ...,\n",
              "          8.63481820e-01, 6.82591498e-01, 7.79080987e-01],\n",
              "         [3.45225245e-01, 8.65652025e-01, 9.07687366e-01, ...,\n",
              "          6.49342477e-01, 6.71560466e-01, 2.43182793e-01]]],\n",
              "\n",
              "\n",
              "       [[[1.09108798e-01, 7.68448561e-02, 1.47668228e-01, ...,\n",
              "          1.09772593e-01, 5.26282787e-02, 1.46123633e-01],\n",
              "         [4.34123874e-02, 1.68635584e-02, 9.86356214e-02, ...,\n",
              "          6.95067719e-02, 4.82624322e-02, 8.16499367e-02],\n",
              "         [1.45963707e-03, 5.91315068e-02, 1.29704565e-01, ...,\n",
              "          9.00706872e-02, 7.80397430e-02, 1.56910747e-01],\n",
              "         [1.40544623e-01, 1.37553532e-02, 1.92884784e-02, ...,\n",
              "          1.45560637e-01, 1.15067229e-01, 1.31332844e-01],\n",
              "         [5.81960231e-02, 1.45926476e-01, 1.53012559e-01, ...,\n",
              "          1.09462306e-01, 1.13207683e-01, 4.09943126e-02]],\n",
              "\n",
              "        [[8.27122703e-02, 5.82538955e-02, 1.11943074e-01, ...,\n",
              "          8.32154751e-02, 3.98959965e-02, 1.10772163e-01],\n",
              "         [3.29096913e-02, 1.27837826e-02, 7.47728571e-02, ...,\n",
              "          5.26911058e-02, 3.65863740e-02, 6.18964918e-02],\n",
              "         [1.10650924e-03, 4.48259115e-02, 9.83253345e-02, ...,\n",
              "          6.82800189e-02, 5.91597036e-02, 1.18949562e-01],\n",
              "         [1.06542870e-01, 1.04275411e-02, 1.46220447e-02, ...,\n",
              "          1.10345371e-01, 8.72291848e-02, 9.95596871e-02],\n",
              "         [4.41167466e-02, 1.10622704e-01, 1.15994453e-01, ...,\n",
              "          8.29802528e-02, 8.58195126e-02, 3.10766194e-02]],\n",
              "\n",
              "        [[1.87231854e-01, 1.31866589e-01, 2.53400236e-01, ...,\n",
              "          1.88370928e-01, 9.03106853e-02, 2.50749707e-01],\n",
              "         [7.44961128e-02, 2.89380439e-02, 1.69259772e-01, ...,\n",
              "          1.19274355e-01, 8.28188434e-02, 1.40112162e-01],\n",
              "         [2.50475272e-03, 1.01470292e-01, 2.22574413e-01, ...,\n",
              "          1.54562250e-01, 1.33917019e-01, 2.69260496e-01],\n",
              "         [2.41176054e-01, 2.36043315e-02, 3.30992304e-02, ...,\n",
              "          2.49783605e-01, 1.97456568e-01, 2.25368559e-01],\n",
              "         [9.98649895e-02, 2.50411391e-01, 2.62571156e-01, ...,\n",
              "          1.87838480e-01, 1.94265574e-01, 7.03466684e-02]],\n",
              "\n",
              "        ...,\n",
              "\n",
              "        [[6.07055724e-01, 4.27546710e-01, 8.21591258e-01, ...,\n",
              "          6.10748887e-01, 2.92811364e-01, 8.12997520e-01],\n",
              "         [2.41536304e-01, 9.38248709e-02, 5.48785388e-01, ...,\n",
              "          3.86719346e-01, 2.68520832e-01, 4.54281062e-01],\n",
              "         [8.12107790e-03, 3.28993797e-01, 7.21645713e-01, ...,\n",
              "          5.01132131e-01, 4.34194773e-01, 8.73014450e-01],\n",
              "         [7.81957209e-01, 7.65315518e-02, 1.07316554e-01, ...,\n",
              "          8.09865177e-01, 6.40206993e-01, 7.30705082e-01],\n",
              "         [3.23789001e-01, 8.11900616e-01, 8.51325870e-01, ...,\n",
              "          6.09022558e-01, 6.29860878e-01, 2.28082702e-01]],\n",
              "\n",
              "        [[9.85395908e-02, 6.94010109e-02, 1.33363828e-01, ...,\n",
              "          9.91390869e-02, 4.75302562e-02, 1.31968856e-01],\n",
              "         [3.92070934e-02, 1.52300103e-02, 8.90809372e-02, ...,\n",
              "          6.27737567e-02, 4.35873233e-02, 7.37406313e-02],\n",
              "         [1.31824426e-03, 5.34035265e-02, 1.17140286e-01, ...,\n",
              "          8.13456699e-02, 7.04801455e-02, 1.41711026e-01],\n",
              "         [1.26930267e-01, 1.24228932e-02, 1.74200311e-02, ...,\n",
              "          1.31460398e-01, 1.03920832e-01, 1.18610837e-01],\n",
              "         [5.25586605e-02, 1.31790802e-01, 1.38190448e-01, ...,\n",
              "          9.88588557e-02, 1.02241419e-01, 3.70232537e-02]],\n",
              "\n",
              "        [[3.03601623e-01, 2.13825300e-01, 4.10895467e-01, ...,\n",
              "          3.05448651e-01, 1.46441266e-01, 4.06597555e-01],\n",
              "         [1.20797500e-01, 4.69238348e-02, 2.74459392e-01, ...,\n",
              "          1.93406656e-01, 1.34293035e-01, 2.27195725e-01],\n",
              "         [4.06152569e-03, 1.64536878e-01, 3.60910535e-01, ...,\n",
              "          2.50626951e-01, 2.17150137e-01, 4.36613321e-01],\n",
              "         [3.91073614e-01, 3.82750742e-02, 5.36713153e-02, ...,\n",
              "          4.05030996e-01, 3.20181280e-01, 3.65441322e-01],\n",
              "         [1.61933839e-01, 4.06048954e-01, 4.25766379e-01, ...,\n",
              "          3.04585278e-01, 3.15006971e-01, 1.14069067e-01]]]],\n",
              "      dtype=float32)>"
            ]
          },
          "metadata": {},
          "execution_count": 72
        }
      ]
    },
    {
      "cell_type": "code",
      "source": [
        "# 6. Generate random tensor of shape [224, 224, 3]\n",
        "Z = tf.random.uniform(shape = [224, 224, 3], minval = 0, maxval = 1)\n",
        "Z"
      ],
      "metadata": {
        "colab": {
          "base_uri": "https://localhost:8080/"
        },
        "id": "O1ATqCB-YUl1",
        "outputId": "fca88cc7-2a46-4bf5-e107-eac6098f8372"
      },
      "execution_count": null,
      "outputs": [
        {
          "output_type": "execute_result",
          "data": {
            "text/plain": [
              "<tf.Tensor: shape=(224, 224, 3), dtype=float32, numpy=\n",
              "array([[[7.4023080e-01, 3.3938193e-01, 5.6925058e-01],\n",
              "        [4.4811392e-01, 2.9285502e-01, 4.2600560e-01],\n",
              "        [6.2890387e-01, 6.9106102e-01, 3.0925727e-01],\n",
              "        ...,\n",
              "        [9.1063976e-04, 6.9863999e-01, 1.7180574e-01],\n",
              "        [6.7542684e-01, 8.3492923e-01, 3.9038682e-01],\n",
              "        [2.3664141e-01, 6.2239432e-01, 1.0117912e-01]],\n",
              "\n",
              "       [[9.7064960e-01, 5.4594779e-01, 7.6819682e-01],\n",
              "        [2.6893330e-01, 2.6959443e-01, 2.8982997e-01],\n",
              "        [2.9215467e-01, 1.7108858e-01, 6.5597153e-01],\n",
              "        ...,\n",
              "        [9.5621395e-01, 5.4591870e-01, 5.3843534e-01],\n",
              "        [9.8861516e-01, 1.5786767e-01, 6.1375093e-01],\n",
              "        [7.2668612e-01, 6.1637163e-03, 1.6534305e-01]],\n",
              "\n",
              "       [[6.4095867e-01, 7.6697862e-01, 3.0138540e-01],\n",
              "        [1.5474892e-01, 1.7183411e-01, 2.7192724e-01],\n",
              "        [3.1211805e-01, 6.1451709e-01, 4.3001354e-01],\n",
              "        ...,\n",
              "        [8.4168065e-01, 5.0247252e-01, 2.8834987e-01],\n",
              "        [3.3173549e-01, 4.5103800e-01, 6.7354202e-02],\n",
              "        [1.0118127e-01, 4.2389810e-01, 6.8379509e-01]],\n",
              "\n",
              "       ...,\n",
              "\n",
              "       [[1.8096626e-01, 8.5838544e-01, 3.4178734e-02],\n",
              "        [5.9386420e-01, 3.8502932e-01, 8.7150073e-01],\n",
              "        [1.0209656e-01, 3.7833798e-01, 1.1331165e-01],\n",
              "        ...,\n",
              "        [8.5692227e-01, 4.2525017e-01, 3.6130440e-01],\n",
              "        [5.2397156e-01, 1.3922489e-01, 2.2725856e-01],\n",
              "        [9.1044855e-01, 9.1889143e-02, 1.5898192e-01]],\n",
              "\n",
              "       [[6.5610647e-02, 1.5236783e-01, 7.9822493e-01],\n",
              "        [3.0753601e-01, 4.3507314e-01, 7.9526460e-01],\n",
              "        [8.3535135e-01, 3.8671303e-01, 4.4709980e-01],\n",
              "        ...,\n",
              "        [6.8944788e-01, 6.5163302e-01, 9.1498744e-01],\n",
              "        [3.2730651e-01, 4.3430209e-01, 8.7547708e-01],\n",
              "        [1.8118513e-01, 6.4113998e-01, 4.3338275e-01]],\n",
              "\n",
              "       [[4.1520441e-01, 1.7824161e-01, 9.2302203e-02],\n",
              "        [4.3809581e-01, 4.6262145e-01, 3.8647270e-01],\n",
              "        [4.6021819e-02, 7.6314330e-02, 3.2944894e-01],\n",
              "        ...,\n",
              "        [3.7793708e-01, 8.7314355e-01, 5.2063870e-01],\n",
              "        [7.3511279e-01, 7.9594767e-01, 8.2211494e-02],\n",
              "        [9.7483528e-01, 8.2736588e-01, 7.6870322e-01]]], dtype=float32)>"
            ]
          },
          "metadata": {},
          "execution_count": 51
        }
      ]
    },
    {
      "cell_type": "code",
      "source": [
        "# Find min and max along first axis\n",
        "tf.reduce_min(Z, axis = 0)"
      ],
      "metadata": {
        "colab": {
          "base_uri": "https://localhost:8080/"
        },
        "id": "YdDShifAZP2N",
        "outputId": "172977ea-e8a3-4b37-a766-a42c29cf7527"
      },
      "execution_count": null,
      "outputs": [
        {
          "output_type": "execute_result",
          "data": {
            "text/plain": [
              "<tf.Tensor: shape=(224, 3), dtype=float32, numpy=\n",
              "array([[2.03430653e-03, 4.37009335e-03, 3.90768051e-04],\n",
              "       [3.51417065e-03, 7.98487663e-03, 3.59594822e-03],\n",
              "       [6.48093224e-03, 2.49707699e-03, 8.29935074e-04],\n",
              "       [1.56582594e-02, 7.75694847e-04, 9.87851620e-03],\n",
              "       [5.94484806e-03, 1.92798376e-02, 5.68044186e-03],\n",
              "       [1.93202496e-03, 4.99880314e-03, 6.75463676e-03],\n",
              "       [7.42089748e-03, 8.29935074e-04, 2.86221504e-04],\n",
              "       [4.54080105e-03, 4.18329239e-03, 9.62257385e-04],\n",
              "       [9.15646553e-04, 4.49621677e-03, 3.66115570e-03],\n",
              "       [1.78742409e-03, 4.46248055e-03, 7.77256489e-03],\n",
              "       [3.64875793e-03, 3.26538086e-03, 7.45463371e-03],\n",
              "       [5.15615940e-03, 2.73168087e-03, 1.84178352e-04],\n",
              "       [3.78739834e-03, 2.19345093e-05, 2.04169750e-03],\n",
              "       [1.40672922e-02, 1.87754631e-04, 2.32815742e-04],\n",
              "       [8.25285912e-04, 2.10213661e-03, 1.35517120e-03],\n",
              "       [4.73082066e-03, 7.74383545e-04, 1.39951706e-03],\n",
              "       [3.03184986e-03, 1.41239166e-03, 1.72853470e-03],\n",
              "       [4.53460217e-03, 5.27977943e-04, 1.95816755e-02],\n",
              "       [3.50272655e-03, 1.19948387e-03, 7.07042217e-03],\n",
              "       [2.98452377e-03, 6.36351109e-03, 4.58121300e-04],\n",
              "       [1.27955675e-02, 1.45339966e-03, 8.04018974e-03],\n",
              "       [7.93945789e-03, 3.88920307e-03, 2.68316269e-03],\n",
              "       [4.49228287e-03, 3.42130661e-04, 3.03399563e-03],\n",
              "       [4.00900841e-04, 2.92778015e-04, 2.21109390e-03],\n",
              "       [2.81071663e-03, 1.17335320e-02, 1.13128424e-02],\n",
              "       [9.78827477e-04, 8.24928284e-04, 3.26013565e-03],\n",
              "       [5.99634647e-03, 4.64320183e-04, 6.12378120e-04],\n",
              "       [1.07038021e-03, 2.43997574e-03, 4.81772423e-03],\n",
              "       [1.23786926e-03, 3.09562683e-03, 5.46669960e-03],\n",
              "       [7.95447826e-03, 3.18551064e-03, 9.86814499e-04],\n",
              "       [6.17694855e-03, 5.35571575e-03, 1.76680088e-03],\n",
              "       [8.86917114e-05, 1.08245611e-02, 1.23631954e-03],\n",
              "       [1.36069059e-02, 2.19511986e-03, 5.03528118e-03],\n",
              "       [3.47375870e-03, 8.05020332e-04, 8.25166702e-04],\n",
              "       [3.20267677e-03, 5.74862957e-03, 2.31504440e-03],\n",
              "       [4.47881222e-03, 1.56521797e-03, 2.65002251e-04],\n",
              "       [1.53775215e-02, 1.82247162e-03, 1.59478188e-03],\n",
              "       [1.29497051e-02, 7.82477856e-03, 8.32080841e-04],\n",
              "       [1.22666359e-03, 7.13789463e-03, 2.24864483e-03],\n",
              "       [7.84158707e-03, 2.04718113e-03, 5.66780567e-03],\n",
              "       [9.27305222e-03, 5.86342812e-03, 1.42489672e-02],\n",
              "       [7.74145126e-03, 7.07566738e-03, 6.11042976e-03],\n",
              "       [2.42233276e-03, 4.26411629e-03, 2.05528736e-03],\n",
              "       [2.28309631e-03, 1.58338547e-02, 8.05616379e-03],\n",
              "       [8.99362564e-03, 2.81012058e-03, 2.56276131e-03],\n",
              "       [3.75461578e-03, 1.63352489e-03, 1.54137611e-04],\n",
              "       [3.21972370e-03, 1.25792027e-02, 5.36799431e-04],\n",
              "       [4.44674492e-03, 1.27875805e-03, 6.90937042e-04],\n",
              "       [9.10365582e-03, 3.83377075e-04, 2.14040279e-03],\n",
              "       [1.71935558e-03, 5.54895401e-03, 8.08346272e-03],\n",
              "       [3.91662121e-03, 4.71997261e-03, 2.26068497e-03],\n",
              "       [4.93395329e-03, 7.64584541e-03, 3.01790237e-03],\n",
              "       [2.03466415e-03, 3.61597538e-03, 2.53117085e-03],\n",
              "       [1.42329931e-02, 3.81708145e-04, 3.16035748e-03],\n",
              "       [2.83205509e-03, 5.68449497e-03, 9.93251801e-04],\n",
              "       [8.34143162e-03, 1.96158886e-03, 3.54266167e-03],\n",
              "       [9.47630405e-03, 1.37591362e-03, 4.42266464e-04],\n",
              "       [9.15205479e-03, 3.36265564e-03, 3.57615948e-03],\n",
              "       [1.08621120e-02, 1.11198425e-03, 8.57734680e-03],\n",
              "       [1.50454044e-03, 2.75373459e-05, 8.40318203e-03],\n",
              "       [3.19087505e-03, 1.26075745e-03, 1.80971622e-03],\n",
              "       [4.29224968e-03, 6.54578209e-04, 1.88720226e-03],\n",
              "       [1.15401745e-02, 5.14149666e-03, 1.10971928e-03],\n",
              "       [1.06408596e-02, 4.73916531e-03, 9.64403152e-04],\n",
              "       [5.90085983e-04, 3.97002697e-03, 1.92928314e-03],\n",
              "       [3.13889980e-03, 3.80873680e-04, 1.02598667e-02],\n",
              "       [4.44126129e-03, 1.72924995e-03, 5.04362583e-03],\n",
              "       [3.11958790e-03, 1.80244446e-03, 1.60694122e-03],\n",
              "       [1.27756596e-02, 1.13999844e-03, 7.35712051e-03],\n",
              "       [1.45673752e-03, 1.21480227e-02, 2.28548050e-03],\n",
              "       [4.75668907e-03, 6.07359409e-03, 3.76164913e-03],\n",
              "       [7.36236572e-04, 2.67732143e-03, 2.29811668e-03],\n",
              "       [1.07924938e-02, 2.22206116e-04, 3.12292576e-03],\n",
              "       [4.71889973e-03, 3.09586525e-04, 3.88669968e-03],\n",
              "       [5.53965569e-04, 1.92334652e-02, 9.84787941e-04],\n",
              "       [1.78744793e-02, 4.82666492e-03, 1.56855583e-03],\n",
              "       [1.27267838e-03, 3.91840935e-04, 4.67801094e-03],\n",
              "       [4.04262543e-03, 3.40223312e-04, 1.12378597e-03],\n",
              "       [8.18967819e-03, 1.61039829e-03, 3.38304043e-03],\n",
              "       [1.66893005e-03, 1.10983849e-03, 2.28643417e-04],\n",
              "       [3.57460976e-03, 2.72738934e-03, 1.12867355e-03],\n",
              "       [1.44313574e-02, 2.41160393e-04, 1.73234940e-03],\n",
              "       [1.24343634e-02, 4.66942787e-04, 1.31783485e-02],\n",
              "       [7.78198242e-04, 7.01069832e-04, 6.40153885e-05],\n",
              "       [1.63674355e-04, 5.21731377e-03, 4.69017029e-03],\n",
              "       [6.37364388e-03, 1.41154528e-02, 2.33840942e-03],\n",
              "       [7.37524033e-03, 3.20553780e-03, 4.64558601e-04],\n",
              "       [1.69277191e-03, 3.07691097e-03, 2.57790089e-03],\n",
              "       [9.13262367e-03, 4.03916836e-03, 1.45161152e-03],\n",
              "       [8.56006145e-03, 3.08239460e-03, 2.82645226e-04],\n",
              "       [4.82153893e-03, 9.17422771e-03, 1.71880722e-02],\n",
              "       [2.10905075e-03, 5.66601753e-04, 4.77755070e-03],\n",
              "       [5.96630573e-03, 1.38556957e-03, 1.01854801e-02],\n",
              "       [1.24621391e-03, 6.65736198e-03, 4.60374355e-03],\n",
              "       [4.14729118e-03, 2.34723091e-04, 1.22404099e-03],\n",
              "       [2.49862671e-03, 4.43100929e-03, 3.06415558e-03],\n",
              "       [7.77566433e-03, 7.38966465e-03, 6.78300858e-03],\n",
              "       [1.04761124e-03, 1.24859810e-03, 1.13105774e-03],\n",
              "       [1.56342983e-03, 5.78403473e-04, 1.82306767e-03],\n",
              "       [6.66856766e-04, 1.47972107e-02, 5.21516800e-03],\n",
              "       [2.54571438e-03, 5.62572479e-03, 1.17125511e-02],\n",
              "       [8.71849060e-03, 7.53760338e-04, 9.30666924e-04],\n",
              "       [5.26392460e-03, 1.78587437e-03, 3.46994400e-03],\n",
              "       [1.49583817e-03, 6.09517097e-04, 4.50885296e-03],\n",
              "       [6.81638718e-04, 1.25169754e-05, 9.98854637e-03],\n",
              "       [1.25074387e-03, 6.74593449e-03, 7.62033463e-03],\n",
              "       [3.44860554e-03, 1.38441324e-02, 6.10923767e-03],\n",
              "       [1.71947479e-03, 1.43706799e-03, 5.49781322e-03],\n",
              "       [1.04713440e-03, 8.18908215e-03, 3.73089314e-03],\n",
              "       [1.47739649e-02, 5.50734997e-03, 3.70383263e-04],\n",
              "       [2.39729881e-04, 1.76429749e-04, 1.25751495e-02],\n",
              "       [3.06034088e-03, 1.45992041e-02, 2.58088112e-03],\n",
              "       [1.72865391e-03, 7.89523125e-03, 8.98516178e-03],\n",
              "       [1.45959854e-03, 5.69605827e-03, 4.93502617e-03],\n",
              "       [7.78198242e-03, 4.80651855e-04, 7.86793232e-03],\n",
              "       [4.53186035e-03, 1.70958042e-03, 3.06761265e-03],\n",
              "       [5.10215759e-05, 7.89093971e-03, 9.40573215e-03],\n",
              "       [1.90520287e-03, 5.60522079e-04, 1.04188919e-03],\n",
              "       [9.78469849e-04, 5.55145741e-03, 6.87658787e-03],\n",
              "       [5.58626652e-03, 2.27224827e-03, 5.31923771e-03],\n",
              "       [3.94833088e-03, 5.28192520e-03, 5.96666336e-03],\n",
              "       [1.70612335e-03, 7.21728802e-03, 2.61918306e-02],\n",
              "       [6.17837906e-03, 3.13663483e-03, 2.10547447e-03],\n",
              "       [3.50713730e-04, 6.56318665e-03, 3.82542610e-04],\n",
              "       [1.17849112e-02, 1.98030472e-03, 4.08601761e-03],\n",
              "       [1.89542770e-04, 4.45485115e-04, 9.61899757e-03],\n",
              "       [4.96554375e-03, 4.47022915e-03, 8.41379166e-04],\n",
              "       [2.72274017e-03, 4.76121902e-04, 1.09672546e-05],\n",
              "       [3.24288607e-02, 5.85544109e-03, 1.07166767e-02],\n",
              "       [2.13277340e-03, 3.75306606e-03, 7.44462013e-04],\n",
              "       [1.51506662e-02, 6.33955002e-04, 3.77917290e-03],\n",
              "       [5.24675846e-03, 2.10320950e-03, 6.45637512e-04],\n",
              "       [6.84988499e-03, 1.36111975e-02, 2.02751160e-03],\n",
              "       [6.84237480e-03, 5.05447388e-04, 1.16456747e-02],\n",
              "       [2.44975090e-04, 3.35323811e-03, 5.94818592e-03],\n",
              "       [4.52244282e-03, 3.04305553e-03, 3.34358215e-03],\n",
              "       [1.46102905e-03, 7.26902485e-03, 1.58574581e-02],\n",
              "       [3.61216068e-03, 1.75710917e-02, 1.60932541e-03],\n",
              "       [6.59358501e-03, 1.75714493e-03, 1.34229660e-03],\n",
              "       [1.46453381e-02, 7.75098801e-04, 2.44426727e-03],\n",
              "       [1.59478188e-03, 2.70891190e-03, 3.74305248e-03],\n",
              "       [1.91652775e-03, 9.61542130e-03, 1.84881687e-03],\n",
              "       [5.15687466e-03, 4.85157967e-03, 1.46031380e-04],\n",
              "       [2.11358070e-04, 5.83505630e-03, 6.27529621e-03],\n",
              "       [9.52303410e-03, 8.57114792e-04, 3.11744213e-03],\n",
              "       [4.13155556e-03, 2.53057480e-03, 3.74078751e-04],\n",
              "       [4.27472591e-03, 8.52918625e-03, 6.47020340e-03],\n",
              "       [1.42431259e-03, 3.01826000e-03, 6.17873669e-03],\n",
              "       [1.22749805e-03, 4.02629375e-03, 2.51793861e-03],\n",
              "       [8.80956650e-04, 6.99520111e-04, 4.78243828e-03],\n",
              "       [1.72163248e-02, 5.13195992e-03, 1.27128363e-02],\n",
              "       [2.68663168e-02, 3.63159180e-03, 2.70605087e-04],\n",
              "       [2.92658806e-04, 1.07877254e-02, 3.61442566e-04],\n",
              "       [1.14679337e-04, 3.36158276e-03, 6.48009777e-03],\n",
              "       [1.05261803e-04, 6.80565834e-04, 1.70302391e-03],\n",
              "       [4.43065166e-03, 1.29222870e-03, 1.39123201e-02],\n",
              "       [5.13434410e-04, 1.85251236e-04, 2.10726261e-03],\n",
              "       [6.29389286e-03, 1.76787376e-04, 2.55453587e-03],\n",
              "       [2.68161297e-03, 4.03404236e-04, 1.82223320e-03],\n",
              "       [2.89678574e-05, 1.99830532e-03, 1.37054920e-03],\n",
              "       [5.29885292e-04, 2.90262699e-03, 1.88863277e-03],\n",
              "       [5.01716137e-03, 6.21914864e-04, 5.11956215e-03],\n",
              "       [1.55878067e-03, 3.33666801e-04, 1.74641609e-03],\n",
              "       [1.54074430e-02, 2.78723240e-03, 1.90114975e-03],\n",
              "       [1.65641308e-03, 1.75714493e-04, 1.52218342e-03],\n",
              "       [5.52213192e-03, 2.59697437e-03, 3.10504436e-03],\n",
              "       [5.09989262e-03, 2.29990482e-03, 7.50219822e-03],\n",
              "       [5.85436821e-04, 1.54531002e-03, 2.09593773e-03],\n",
              "       [1.82509422e-03, 1.20896101e-02, 5.61261177e-03],\n",
              "       [3.68094444e-03, 7.82084465e-03, 5.92947006e-03],\n",
              "       [5.36715984e-03, 1.16539001e-03, 2.83420086e-03],\n",
              "       [3.98600101e-03, 2.20775604e-04, 1.09343529e-02],\n",
              "       [5.74469566e-03, 1.99556351e-04, 9.48476791e-03],\n",
              "       [1.54352188e-03, 3.03363800e-03, 5.51855564e-03],\n",
              "       [1.36649609e-03, 5.49995899e-03, 2.23529339e-03],\n",
              "       [1.21319294e-03, 2.05695629e-03, 4.07576561e-03],\n",
              "       [2.20656395e-03, 9.13953781e-03, 1.44553185e-03],\n",
              "       [2.75254250e-04, 5.39088249e-03, 4.29642200e-03],\n",
              "       [3.69989872e-03, 7.98106194e-04, 6.96897507e-03],\n",
              "       [1.27124786e-03, 5.14876842e-03, 1.01586580e-02],\n",
              "       [9.40096378e-03, 1.86169147e-03, 9.53435898e-04],\n",
              "       [2.97069550e-03, 3.92794609e-04, 2.60519981e-03],\n",
              "       [7.26640224e-03, 2.39887238e-02, 3.29530239e-03],\n",
              "       [4.31501865e-03, 2.43782997e-03, 8.89027119e-03],\n",
              "       [8.01932812e-03, 1.28710270e-03, 1.22196674e-02],\n",
              "       [2.16722488e-04, 2.24304199e-03, 4.28974628e-03],\n",
              "       [3.46422195e-04, 6.75702095e-03, 6.18755817e-03],\n",
              "       [7.15732574e-04, 1.98364258e-04, 4.36890125e-03],\n",
              "       [2.73835659e-03, 4.21190262e-03, 1.81400776e-03],\n",
              "       [7.66038895e-03, 1.70989037e-02, 7.45165348e-03],\n",
              "       [6.97517395e-03, 6.62469864e-03, 4.64773178e-03],\n",
              "       [3.07607651e-03, 4.39167023e-04, 4.50503826e-03],\n",
              "       [7.61783123e-03, 1.21387243e-02, 3.72278690e-03],\n",
              "       [7.76052475e-05, 4.37152386e-03, 2.38084793e-03],\n",
              "       [1.90508366e-03, 3.85522842e-03, 5.00011444e-03],\n",
              "       [2.09343433e-03, 2.89320946e-04, 2.49981880e-04],\n",
              "       [1.14523172e-02, 1.10855103e-02, 5.88655472e-03],\n",
              "       [5.47766685e-03, 1.04796886e-03, 1.21204853e-02],\n",
              "       [9.76800919e-03, 1.52218342e-03, 4.98151779e-03],\n",
              "       [3.23355198e-03, 9.02879238e-03, 7.39777088e-03],\n",
              "       [4.38570976e-04, 1.79243088e-03, 3.46899033e-04],\n",
              "       [1.59192085e-03, 3.87310982e-04, 5.33795357e-03],\n",
              "       [4.43589687e-03, 1.67012215e-04, 8.40902328e-04],\n",
              "       [1.63745880e-03, 4.82761860e-03, 4.44173813e-04],\n",
              "       [3.08275223e-04, 6.07693195e-03, 1.36017799e-03],\n",
              "       [2.12407112e-03, 7.62224197e-04, 7.58850574e-03],\n",
              "       [2.74443626e-03, 1.97832584e-02, 1.03056431e-03],\n",
              "       [1.86443329e-04, 3.82781029e-04, 9.42909718e-03],\n",
              "       [1.11770630e-03, 2.93612480e-04, 7.98094273e-03],\n",
              "       [9.83595848e-04, 1.25050545e-04, 5.87415695e-03],\n",
              "       [1.90007687e-03, 3.67811918e-02, 1.25443935e-02],\n",
              "       [4.34172153e-03, 6.67071342e-03, 4.34827805e-03],\n",
              "       [8.21852684e-03, 1.90162659e-03, 8.33964348e-03],\n",
              "       [1.50357485e-02, 4.26101685e-03, 6.77704811e-04],\n",
              "       [3.81827354e-04, 1.78587437e-03, 9.63211060e-04],\n",
              "       [1.76781416e-02, 1.92141533e-03, 1.34587288e-04],\n",
              "       [5.34415245e-04, 4.35686111e-03, 3.70311737e-03],\n",
              "       [3.65376472e-04, 6.41250610e-03, 3.89218330e-03],\n",
              "       [3.22473049e-03, 2.33042240e-03, 6.32703304e-03],\n",
              "       [1.60861015e-03, 5.17654419e-03, 3.45695019e-03],\n",
              "       [4.41277027e-03, 3.38673592e-03, 1.18950605e-02],\n",
              "       [9.10639763e-04, 2.39968300e-04, 1.30653381e-04],\n",
              "       [1.57951117e-02, 6.52563572e-03, 1.04048252e-02],\n",
              "       [3.04269791e-03, 4.54545021e-04, 2.86877155e-03]], dtype=float32)>"
            ]
          },
          "metadata": {},
          "execution_count": 52
        }
      ]
    },
    {
      "cell_type": "code",
      "source": [
        "tf.reduce_max(Z, axis = 0)"
      ],
      "metadata": {
        "colab": {
          "base_uri": "https://localhost:8080/"
        },
        "id": "1DXn8DICZtGu",
        "outputId": "bb05437b-7947-4148-bcd5-774518451903"
      },
      "execution_count": null,
      "outputs": [
        {
          "output_type": "execute_result",
          "data": {
            "text/plain": [
              "<tf.Tensor: shape=(224, 3), dtype=float32, numpy=\n",
              "array([[0.999496  , 0.9963497 , 0.9888816 ],\n",
              "       [0.9986012 , 0.99141884, 0.9950535 ],\n",
              "       [0.997959  , 0.97667074, 0.9986603 ],\n",
              "       [0.99689543, 0.99890375, 0.9978107 ],\n",
              "       [0.9857353 , 0.9985192 , 0.9993119 ],\n",
              "       [0.9998385 , 0.99915946, 0.99280477],\n",
              "       [0.9994391 , 0.99572384, 0.995831  ],\n",
              "       [0.9947666 , 0.98579705, 0.99513376],\n",
              "       [0.99427724, 0.99754584, 0.9998121 ],\n",
              "       [0.99203503, 0.99756145, 0.9958385 ],\n",
              "       [0.99305665, 0.9890835 , 0.99911284],\n",
              "       [0.9945315 , 0.9968053 , 0.99750936],\n",
              "       [0.99853754, 0.99238455, 0.9903239 ],\n",
              "       [0.9986687 , 0.99331665, 0.9950056 ],\n",
              "       [0.9967083 , 0.9971876 , 0.99862325],\n",
              "       [0.99219584, 0.99877846, 0.98672354],\n",
              "       [0.99661255, 0.9858984 , 0.99987435],\n",
              "       [0.99535847, 0.9920274 , 0.981122  ],\n",
              "       [0.9940791 , 0.9999418 , 0.9879633 ],\n",
              "       [0.991364  , 0.9968468 , 0.9968897 ],\n",
              "       [0.99629796, 0.99595034, 0.99858797],\n",
              "       [0.9934597 , 0.99570584, 0.98894036],\n",
              "       [0.9976789 , 0.9911628 , 0.9986954 ],\n",
              "       [0.9981723 , 0.9990523 , 0.99242616],\n",
              "       [0.99629176, 0.9945804 , 0.9996245 ],\n",
              "       [0.99659777, 0.99410856, 0.995348  ],\n",
              "       [0.99957466, 0.98952603, 0.9991392 ],\n",
              "       [0.9964323 , 0.99633   , 0.99144137],\n",
              "       [0.99744713, 0.9969646 , 0.99996924],\n",
              "       [0.9878205 , 0.99198675, 0.99690163],\n",
              "       [0.99573267, 0.99870825, 0.9992795 ],\n",
              "       [0.9953884 , 0.99932563, 0.99854636],\n",
              "       [0.9986278 , 0.99570847, 0.99906266],\n",
              "       [0.9962895 , 0.9917426 , 0.9947194 ],\n",
              "       [0.99740887, 0.99331725, 0.9933816 ],\n",
              "       [0.9825448 , 0.9985117 , 0.99399936],\n",
              "       [0.9955319 , 0.999298  , 0.99768126],\n",
              "       [0.99714005, 0.9963856 , 0.99340546],\n",
              "       [0.996017  , 0.9968027 , 0.99188733],\n",
              "       [0.99554634, 0.99944484, 0.9975977 ],\n",
              "       [0.99853706, 0.99551415, 0.99260557],\n",
              "       [0.99796045, 0.9987    , 0.9968555 ],\n",
              "       [0.9971522 , 0.98774946, 0.9921597 ],\n",
              "       [0.9972352 , 0.9910464 , 0.9981489 ],\n",
              "       [0.9915706 , 0.9974499 , 0.99537265],\n",
              "       [0.9992931 , 0.9963442 , 0.99757934],\n",
              "       [0.9912224 , 0.9984999 , 0.99960685],\n",
              "       [0.9968374 , 0.9970095 , 0.9939594 ],\n",
              "       [0.99296165, 0.99114275, 0.9976915 ],\n",
              "       [0.9975308 , 0.9993619 , 0.99931955],\n",
              "       [0.9993845 , 0.9989637 , 0.9999902 ],\n",
              "       [0.993034  , 0.9939178 , 0.9977257 ],\n",
              "       [0.99966717, 0.9944737 , 0.99091005],\n",
              "       [0.998911  , 0.98764133, 0.99996555],\n",
              "       [0.9996983 , 0.9968355 , 0.99830925],\n",
              "       [0.9983883 , 0.99983525, 0.9956907 ],\n",
              "       [0.9966997 , 0.9951863 , 0.9985144 ],\n",
              "       [0.9957285 , 0.99774253, 0.9983622 ],\n",
              "       [0.99837434, 0.99625874, 0.9905571 ],\n",
              "       [0.99218357, 0.9991983 , 0.99504256],\n",
              "       [0.9985316 , 0.99493515, 0.99403894],\n",
              "       [0.99515915, 0.99695134, 0.998953  ],\n",
              "       [0.9996135 , 0.9970453 , 0.99337816],\n",
              "       [0.99941504, 0.9998181 , 0.99361753],\n",
              "       [0.9989687 , 0.99621403, 0.99884486],\n",
              "       [0.9915817 , 0.99545276, 0.9985657 ],\n",
              "       [0.9992206 , 0.9956912 , 0.9991609 ],\n",
              "       [0.9982916 , 0.99565065, 0.99869156],\n",
              "       [0.9990282 , 0.9946854 , 0.9981972 ],\n",
              "       [0.99868965, 0.9930589 , 0.9998553 ],\n",
              "       [0.99519694, 0.99552226, 0.99876463],\n",
              "       [0.99181926, 0.98834217, 0.9970342 ],\n",
              "       [0.99996805, 0.9818977 , 0.98934054],\n",
              "       [0.999406  , 0.9931109 , 0.98627114],\n",
              "       [0.9978998 , 0.99968636, 0.99983394],\n",
              "       [0.9941882 , 0.99910605, 0.9998672 ],\n",
              "       [0.9927759 , 0.9981568 , 0.99337757],\n",
              "       [0.9955193 , 0.9989723 , 0.99905074],\n",
              "       [0.99336946, 0.9971491 , 0.9947059 ],\n",
              "       [0.99903965, 0.99644136, 0.9913143 ],\n",
              "       [0.9949714 , 0.99879277, 0.99913955],\n",
              "       [0.999879  , 0.9955015 , 0.9898405 ],\n",
              "       [0.9989413 , 0.9964478 , 0.9809371 ],\n",
              "       [0.9807129 , 0.99262106, 0.99922335],\n",
              "       [0.99215746, 0.99617803, 0.99499893],\n",
              "       [0.9953445 , 0.99945295, 0.9977943 ],\n",
              "       [0.9965056 , 0.9918697 , 0.9888309 ],\n",
              "       [0.97592497, 0.99560356, 0.99507   ],\n",
              "       [0.9968997 , 0.9922464 , 0.9985771 ],\n",
              "       [0.99871993, 0.9964807 , 0.9999443 ],\n",
              "       [0.9992558 , 0.99777913, 0.9917829 ],\n",
              "       [0.9963969 , 0.9993762 , 0.9963081 ],\n",
              "       [0.9984422 , 0.9998369 , 0.9935851 ],\n",
              "       [0.99200416, 0.99678326, 0.9972259 ],\n",
              "       [0.999913  , 0.9996195 , 0.9960319 ],\n",
              "       [0.9975802 , 0.99667406, 0.99417436],\n",
              "       [0.99973166, 0.9996389 , 0.9978404 ],\n",
              "       [0.995095  , 0.9954282 , 0.99164176],\n",
              "       [0.9998696 , 0.9955547 , 0.99519813],\n",
              "       [0.9952936 , 0.99840784, 0.99654603],\n",
              "       [0.997079  , 0.99330866, 0.9993398 ],\n",
              "       [0.99913025, 0.9981898 , 0.9900291 ],\n",
              "       [0.9999763 , 0.99937534, 0.9994538 ],\n",
              "       [0.9980937 , 0.9949479 , 0.99267125],\n",
              "       [0.9995575 , 0.99206066, 0.99755466],\n",
              "       [0.9963517 , 0.9962628 , 0.99570036],\n",
              "       [0.99492955, 0.9995222 , 0.997702  ],\n",
              "       [0.9947927 , 0.99933875, 0.99937093],\n",
              "       [0.9961568 , 0.99790084, 0.99081576],\n",
              "       [0.992705  , 0.9971217 , 0.9953116 ],\n",
              "       [0.9997461 , 0.9987185 , 0.9864806 ],\n",
              "       [0.99443245, 0.9977921 , 0.99397004],\n",
              "       [0.99499834, 0.9979236 , 0.9973072 ],\n",
              "       [0.99913955, 0.9919914 , 0.9861653 ],\n",
              "       [0.9871758 , 0.9979304 , 0.9976386 ],\n",
              "       [0.9890822 , 0.99907684, 0.9930661 ],\n",
              "       [0.9947792 , 0.9996741 , 0.99893737],\n",
              "       [0.9994464 , 0.9937221 , 0.9997617 ],\n",
              "       [0.99801195, 0.99407315, 0.99767995],\n",
              "       [0.9920021 , 0.98950136, 0.9994521 ],\n",
              "       [0.988279  , 0.9984102 , 0.9968568 ],\n",
              "       [0.9965502 , 0.99551237, 0.9943049 ],\n",
              "       [0.9984076 , 0.9982356 , 0.9959017 ],\n",
              "       [0.9933443 , 0.9988357 , 0.99884224],\n",
              "       [0.990088  , 0.99753666, 0.9977304 ],\n",
              "       [0.9938394 , 0.9849535 , 0.99219143],\n",
              "       [0.99645424, 0.9963926 , 0.99885523],\n",
              "       [0.999233  , 0.99988914, 0.98543537],\n",
              "       [0.9987446 , 0.99860084, 0.9958931 ],\n",
              "       [0.986899  , 0.9995916 , 0.99770844],\n",
              "       [0.9925072 , 0.980211  , 0.9986403 ],\n",
              "       [0.9971181 , 0.9987345 , 0.9940791 ],\n",
              "       [0.99962175, 0.9980736 , 0.9883667 ],\n",
              "       [0.997815  , 0.98248506, 0.9991487 ],\n",
              "       [0.9983883 , 0.998487  , 0.98011863],\n",
              "       [0.99916744, 0.9942436 , 0.999076  ],\n",
              "       [0.9968773 , 0.999545  , 0.9964174 ],\n",
              "       [0.9992796 , 0.99481225, 0.99013543],\n",
              "       [0.9870658 , 0.9998313 , 0.9995291 ],\n",
              "       [0.99744666, 0.99727845, 0.9983889 ],\n",
              "       [0.9978399 , 0.98934484, 0.9997735 ],\n",
              "       [0.99234354, 0.994753  , 0.99560356],\n",
              "       [0.9962827 , 0.9982486 , 0.9999541 ],\n",
              "       [0.97920334, 0.9998524 , 0.9969939 ],\n",
              "       [0.9955627 , 0.9947022 , 0.999881  ],\n",
              "       [0.99811625, 0.9987035 , 0.99868274],\n",
              "       [0.9999696 , 0.9932009 , 0.99679756],\n",
              "       [0.9992497 , 0.9961693 , 0.99968374],\n",
              "       [0.9997364 , 0.99933636, 0.9877987 ],\n",
              "       [0.9910121 , 0.99860287, 0.9978161 ],\n",
              "       [0.9967333 , 0.99275506, 0.99088264],\n",
              "       [0.99914396, 0.99427044, 0.9969151 ],\n",
              "       [0.9964814 , 0.99060106, 0.99722624],\n",
              "       [0.9979627 , 0.9995842 , 0.9978887 ],\n",
              "       [0.99322855, 0.9887204 , 0.99981713],\n",
              "       [0.99770224, 0.9945185 , 0.9947617 ],\n",
              "       [0.99611413, 0.99014497, 0.99597216],\n",
              "       [0.99839354, 0.992167  , 0.99665546],\n",
              "       [0.99946916, 0.99502707, 0.98293746],\n",
              "       [0.99610794, 0.9992423 , 0.98806214],\n",
              "       [0.9996023 , 0.99856067, 0.9979577 ],\n",
              "       [0.99837744, 0.9994631 , 0.9988314 ],\n",
              "       [0.99874675, 0.99910593, 0.997558  ],\n",
              "       [0.9973743 , 0.99995816, 0.997355  ],\n",
              "       [0.99481165, 0.9976512 , 0.9976059 ],\n",
              "       [0.99853516, 0.99541926, 0.994786  ],\n",
              "       [0.99538076, 0.9982493 , 0.9982785 ],\n",
              "       [0.97307503, 0.9892218 , 0.9954363 ],\n",
              "       [0.99645555, 0.9986242 , 0.99116695],\n",
              "       [0.9977522 , 0.9949646 , 0.99945307],\n",
              "       [0.97582626, 0.9944676 , 0.9968755 ],\n",
              "       [0.9974116 , 0.99756515, 0.9956249 ],\n",
              "       [0.99362934, 0.99492145, 0.9959537 ],\n",
              "       [0.9821439 , 0.9959414 , 0.9981171 ],\n",
              "       [0.9961066 , 0.9988018 , 0.999771  ],\n",
              "       [0.99411416, 0.9948282 , 0.99201906],\n",
              "       [0.99575436, 0.9968579 , 0.99822295],\n",
              "       [0.9927361 , 0.9988848 , 0.9977958 ],\n",
              "       [0.99864674, 0.99975884, 0.9946575 ],\n",
              "       [0.9956318 , 0.9950123 , 0.99585974],\n",
              "       [0.9983555 , 0.99461675, 0.9937005 ],\n",
              "       [0.99015546, 0.99619997, 0.99705803],\n",
              "       [0.998464  , 0.9962065 , 0.99621093],\n",
              "       [0.9956336 , 0.9982499 , 0.990147  ],\n",
              "       [0.9970175 , 0.9983735 , 0.99803305],\n",
              "       [0.998078  , 0.99599206, 0.9883485 ],\n",
              "       [0.99731076, 0.9992113 , 0.9986298 ],\n",
              "       [0.99916077, 0.993314  , 0.9995111 ],\n",
              "       [0.99782026, 0.9989209 , 0.99571395],\n",
              "       [0.9958116 , 0.99452305, 0.9988768 ],\n",
              "       [0.99463654, 0.99775374, 0.9987112 ],\n",
              "       [0.99628484, 0.9957578 , 0.9881623 ],\n",
              "       [0.9888725 , 0.9942751 , 0.9899864 ],\n",
              "       [0.99925864, 0.9985595 , 0.9999547 ],\n",
              "       [0.99491334, 0.99864566, 0.9800161 ],\n",
              "       [0.99653614, 0.9976399 , 0.99967194],\n",
              "       [0.9990034 , 0.9979043 , 0.9974873 ],\n",
              "       [0.9988198 , 0.9972007 , 0.986892  ],\n",
              "       [0.99901974, 0.99693596, 0.99299455],\n",
              "       [0.9961417 , 0.99361646, 0.99749184],\n",
              "       [0.9983369 , 0.9975369 , 0.9979081 ],\n",
              "       [0.99776876, 0.99586856, 0.9992411 ],\n",
              "       [0.99764955, 0.99638665, 0.99588275],\n",
              "       [0.9997976 , 0.99201214, 0.99969304],\n",
              "       [0.9964781 , 0.9929222 , 0.996344  ],\n",
              "       [0.98395824, 0.99997246, 0.9900353 ],\n",
              "       [0.9989133 , 0.9990125 , 0.9987954 ],\n",
              "       [0.99814713, 0.9997779 , 0.99941623],\n",
              "       [0.99988925, 0.99758923, 0.9977877 ],\n",
              "       [0.99805355, 0.9937248 , 0.99952304],\n",
              "       [0.9983002 , 0.991959  , 0.98603547],\n",
              "       [0.9987576 , 0.9990822 , 0.9972999 ],\n",
              "       [0.9935801 , 0.9998325 , 0.9911002 ],\n",
              "       [0.9879689 , 0.99861014, 0.99835   ],\n",
              "       [0.99895644, 0.9974785 , 0.99693155],\n",
              "       [0.9956746 , 0.99687433, 0.99443877],\n",
              "       [0.9970933 , 0.996642  , 0.99067867],\n",
              "       [0.9986031 , 0.98473835, 0.99992466],\n",
              "       [0.9983411 , 0.9998512 , 0.9978659 ],\n",
              "       [0.9917364 , 0.98279774, 0.9902917 ],\n",
              "       [0.9976356 , 0.99964416, 0.98651433],\n",
              "       [0.98804057, 0.9994633 , 0.993536  ],\n",
              "       [0.9941493 , 0.99956906, 0.9986584 ],\n",
              "       [0.9990926 , 0.98978853, 0.99319077]], dtype=float32)>"
            ]
          },
          "metadata": {},
          "execution_count": 54
        }
      ]
    },
    {
      "cell_type": "code",
      "source": [
        "# Create random tensor with shape [1, 224, 224, 3]\n",
        "A = tf.random.uniform(shape = [1, 224, 224, 3], minval = 0, maxval = 1)\n",
        "A"
      ],
      "metadata": {
        "colab": {
          "base_uri": "https://localhost:8080/"
        },
        "id": "8PQgggoQbLHu",
        "outputId": "9381d908-5141-4a47-ca7b-79fb31d8281f"
      },
      "execution_count": null,
      "outputs": [
        {
          "output_type": "execute_result",
          "data": {
            "text/plain": [
              "<tf.Tensor: shape=(1, 224, 224, 3), dtype=float32, numpy=\n",
              "array([[[[8.0315602e-01, 4.9777734e-01, 3.7054038e-01],\n",
              "         [9.1186738e-01, 6.3764203e-01, 1.8209696e-01],\n",
              "         [6.3791955e-01, 2.7701473e-01, 4.2271137e-02],\n",
              "         ...,\n",
              "         [1.0830712e-01, 4.5979273e-01, 2.5716281e-01],\n",
              "         [8.7138689e-01, 1.8434000e-01, 4.4757760e-01],\n",
              "         [7.4110627e-02, 9.0852141e-01, 5.3693414e-01]],\n",
              "\n",
              "        [[5.5596435e-01, 6.8776274e-01, 7.6051474e-02],\n",
              "         [1.6737962e-01, 7.1785092e-01, 2.7642274e-01],\n",
              "         [2.6995218e-01, 3.2203627e-01, 8.8224900e-01],\n",
              "         ...,\n",
              "         [4.8168826e-01, 5.0150025e-01, 8.6756039e-01],\n",
              "         [4.1261053e-01, 1.2770486e-01, 5.8186901e-01],\n",
              "         [2.5495613e-01, 3.9036548e-01, 9.8529553e-01]],\n",
              "\n",
              "        [[8.0935180e-01, 1.9740558e-01, 3.5899937e-01],\n",
              "         [1.1216915e-01, 9.1016293e-04, 3.6382091e-01],\n",
              "         [5.1202202e-01, 3.9188230e-01, 8.8335538e-01],\n",
              "         ...,\n",
              "         [2.0133841e-01, 9.1663551e-01, 1.9890130e-01],\n",
              "         [8.0388057e-01, 3.9227080e-01, 2.9688942e-01],\n",
              "         [8.9319050e-01, 2.9692888e-01, 2.6492047e-01]],\n",
              "\n",
              "        ...,\n",
              "\n",
              "        [[7.3653197e-01, 5.9242892e-01, 8.1022096e-01],\n",
              "         [3.2385099e-01, 9.4225824e-01, 8.4279275e-01],\n",
              "         [5.2548873e-01, 8.8999271e-02, 1.2152910e-01],\n",
              "         ...,\n",
              "         [4.4721401e-01, 2.0952868e-01, 9.3782067e-02],\n",
              "         [5.1644707e-01, 7.4352753e-01, 7.4530303e-01],\n",
              "         [4.3693781e-03, 1.0793984e-01, 1.7783213e-01]],\n",
              "\n",
              "        [[7.6054347e-01, 8.0798697e-01, 3.9492905e-01],\n",
              "         [4.0577006e-01, 9.6265435e-02, 8.8253260e-01],\n",
              "         [6.7700970e-01, 7.8380144e-01, 9.3841922e-01],\n",
              "         ...,\n",
              "         [3.1409883e-01, 2.0651186e-01, 5.1043892e-01],\n",
              "         [6.6967010e-02, 3.1983531e-01, 7.4677360e-01],\n",
              "         [7.0548081e-01, 8.2629704e-01, 7.0540214e-01]],\n",
              "\n",
              "        [[6.4126742e-01, 5.8223104e-01, 5.1815867e-02],\n",
              "         [6.2203467e-01, 5.7224095e-01, 9.0543139e-01],\n",
              "         [9.6411026e-01, 2.6061213e-01, 7.4845552e-02],\n",
              "         ...,\n",
              "         [5.8922923e-01, 1.2655807e-01, 7.0523393e-01],\n",
              "         [9.5485377e-01, 6.6495812e-01, 6.4105380e-01],\n",
              "         [4.4474745e-01, 9.7424459e-01, 9.1788459e-01]]]], dtype=float32)>"
            ]
          },
          "metadata": {},
          "execution_count": 56
        }
      ]
    },
    {
      "cell_type": "code",
      "source": [
        "# 8. Squeeze the tensor\n",
        "A_squeezed = tf.squeeze(A)\n",
        "A_squeezed.shape"
      ],
      "metadata": {
        "colab": {
          "base_uri": "https://localhost:8080/"
        },
        "id": "8iPWAejSb-gV",
        "outputId": "e8977ede-23ac-439d-bfe5-525bd67f6a7d"
      },
      "execution_count": null,
      "outputs": [
        {
          "output_type": "execute_result",
          "data": {
            "text/plain": [
              "TensorShape([224, 224, 3])"
            ]
          },
          "metadata": {},
          "execution_count": 57
        }
      ]
    },
    {
      "cell_type": "code",
      "source": [
        "B = tf.random.uniform(shape = [10])\n",
        "B"
      ],
      "metadata": {
        "colab": {
          "base_uri": "https://localhost:8080/"
        },
        "id": "lN0YdnTPcK9F",
        "outputId": "9903d3c2-ce83-4c1a-c273-4b7ef71db7a8"
      },
      "execution_count": null,
      "outputs": [
        {
          "output_type": "execute_result",
          "data": {
            "text/plain": [
              "<tf.Tensor: shape=(10,), dtype=float32, numpy=\n",
              "array([0.95831835, 0.01680839, 0.3156035 , 0.16013157, 0.7148702 ,\n",
              "       0.7892921 , 0.11484027, 0.33310425, 0.21091413, 0.62329304],\n",
              "      dtype=float32)>"
            ]
          },
          "metadata": {},
          "execution_count": 58
        }
      ]
    },
    {
      "cell_type": "code",
      "source": [
        "# 9. Find index of maximum value\n",
        "tf.argmax(B)"
      ],
      "metadata": {
        "colab": {
          "base_uri": "https://localhost:8080/"
        },
        "id": "DL8abl47cc8V",
        "outputId": "66ef3a24-9ee7-4516-95e7-3083ea119c0b"
      },
      "execution_count": null,
      "outputs": [
        {
          "output_type": "execute_result",
          "data": {
            "text/plain": [
              "<tf.Tensor: shape=(), dtype=int64, numpy=0>"
            ]
          },
          "metadata": {},
          "execution_count": 59
        }
      ]
    },
    {
      "cell_type": "code",
      "source": [
        "# 10. One-hot encode B\n",
        "C = tf.constant(np.arange(0, 10))\n",
        "C"
      ],
      "metadata": {
        "colab": {
          "base_uri": "https://localhost:8080/"
        },
        "id": "mCvCgrwncsUd",
        "outputId": "7a48f603-3b1b-487b-d56f-c6ca3dda0012"
      },
      "execution_count": null,
      "outputs": [
        {
          "output_type": "execute_result",
          "data": {
            "text/plain": [
              "<tf.Tensor: shape=(10,), dtype=int64, numpy=array([0, 1, 2, 3, 4, 5, 6, 7, 8, 9])>"
            ]
          },
          "metadata": {},
          "execution_count": 65
        }
      ]
    },
    {
      "cell_type": "code",
      "source": [
        "tf.one_hot(C, 10)"
      ],
      "metadata": {
        "colab": {
          "base_uri": "https://localhost:8080/"
        },
        "id": "4-tk2pH1dCum",
        "outputId": "d6616d11-161f-40b0-84e9-4be5e965e174"
      },
      "execution_count": null,
      "outputs": [
        {
          "output_type": "execute_result",
          "data": {
            "text/plain": [
              "<tf.Tensor: shape=(10, 10), dtype=float32, numpy=\n",
              "array([[1., 0., 0., 0., 0., 0., 0., 0., 0., 0.],\n",
              "       [0., 1., 0., 0., 0., 0., 0., 0., 0., 0.],\n",
              "       [0., 0., 1., 0., 0., 0., 0., 0., 0., 0.],\n",
              "       [0., 0., 0., 1., 0., 0., 0., 0., 0., 0.],\n",
              "       [0., 0., 0., 0., 1., 0., 0., 0., 0., 0.],\n",
              "       [0., 0., 0., 0., 0., 1., 0., 0., 0., 0.],\n",
              "       [0., 0., 0., 0., 0., 0., 1., 0., 0., 0.],\n",
              "       [0., 0., 0., 0., 0., 0., 0., 1., 0., 0.],\n",
              "       [0., 0., 0., 0., 0., 0., 0., 0., 1., 0.],\n",
              "       [0., 0., 0., 0., 0., 0., 0., 0., 0., 1.]], dtype=float32)>"
            ]
          },
          "metadata": {},
          "execution_count": 66
        }
      ]
    },
    {
      "cell_type": "code",
      "source": [],
      "metadata": {
        "id": "o5KUILLLeIsQ"
      },
      "execution_count": null,
      "outputs": []
    }
  ]
}